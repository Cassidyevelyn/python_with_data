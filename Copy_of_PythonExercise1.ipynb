{
  "nbformat": 4,
  "nbformat_minor": 0,
  "metadata": {
    "colab": {
      "provenance": [],
      "include_colab_link": true
    },
    "kernelspec": {
      "name": "python3",
      "display_name": "Python 3"
    },
    "language_info": {
      "name": "python"
    }
  },
  "cells": [
    {
      "cell_type": "markdown",
      "metadata": {
        "id": "view-in-github",
        "colab_type": "text"
      },
      "source": [
        "<a href=\"https://colab.research.google.com/github/Cassidyevelyn/python_with_data/blob/main/Copy_of_PythonExercise1.ipynb\" target=\"_parent\"><img src=\"https://colab.research.google.com/assets/colab-badge.svg\" alt=\"Open In Colab\"/></a>"
      ]
    },
    {
      "cell_type": "markdown",
      "source": [
        "1A. Write a program to add the two numbers 9 and 13."
      ],
      "metadata": {
        "id": "Y9kDXsgJh-Xk"
      }
    },
    {
      "cell_type": "code",
      "execution_count": 1,
      "metadata": {
        "id": "9YN0LOPvhNSI",
        "colab": {
          "base_uri": "https://localhost:8080/"
        },
        "outputId": "cacd442f-05e1-4ea0-c9e0-bb69b511e27b"
      },
      "outputs": [
        {
          "output_type": "stream",
          "name": "stdout",
          "text": [
            "The sum of 9 and 13 is: 22\n"
          ]
        }
      ],
      "source": [
        "\n",
        "num1 = 9\n",
        "num2 = 13\n",
        "\n",
        "result = num1 + num2\n",
        "\n",
        "\n",
        "print(f\"The sum of {num1} and {num2} is: {result}\")\n"
      ]
    },
    {
      "cell_type": "markdown",
      "source": [
        "1B. Write a python program to multiply the two numbers 4 and 5."
      ],
      "metadata": {
        "id": "7WS5GzyIiXO8"
      }
    },
    {
      "cell_type": "code",
      "source": [
        "num1 = 4\n",
        "num2 = 5\n",
        "\n",
        "result = num1 * num2\n",
        "\n",
        "\n",
        "print(f\"The product of {num1} and {num2} is: {result}\")"
      ],
      "metadata": {
        "id": "a4vrN63kich6",
        "colab": {
          "base_uri": "https://localhost:8080/"
        },
        "outputId": "13cbb290-c876-4b28-e82c-d52174f49159"
      },
      "execution_count": 3,
      "outputs": [
        {
          "output_type": "stream",
          "name": "stdout",
          "text": [
            "The product of 4 and 5 is: 20\n"
          ]
        }
      ]
    },
    {
      "cell_type": "markdown",
      "source": [
        "1C. Write a program that calculates the annual salary of an employee after it increases by 10%. (Initial annual salary £42,000)"
      ],
      "metadata": {
        "id": "X61a4vTIi3oz"
      }
    },
    {
      "cell_type": "code",
      "source": [
        "\n",
        "initial_salary = 42000\n",
        "\n",
        "\n",
        "percentage_increase = 10\n",
        "\n",
        "\n",
        "increase_amount = (percentage_increase / 100) * initial_salary\n",
        "\n",
        "new_salary = initial_salary + increase_amount\n",
        "\n",
        "\n",
        "print(f\"The new annual salary after a {percentage_increase}% increase is: £{new_salary:.2f}\")\n"
      ],
      "metadata": {
        "id": "Ipi3jrRGi8Yj",
        "colab": {
          "base_uri": "https://localhost:8080/"
        },
        "outputId": "9465c6b7-db8e-4136-ee6c-96eea7589ca1"
      },
      "execution_count": 4,
      "outputs": [
        {
          "output_type": "stream",
          "name": "stdout",
          "text": [
            "The new annual salary after a 10% increase is: £46200.00\n"
          ]
        }
      ]
    },
    {
      "cell_type": "markdown",
      "source": [
        "2A. Write a python program that finds the volume of a cuboid with length 2m, width 3m and height 5m."
      ],
      "metadata": {
        "id": "E8ZB8jBSi8nb"
      }
    },
    {
      "cell_type": "code",
      "source": [
        "\n",
        "length = 2  # in meters\n",
        "width = 3   # in meters\n",
        "height = 5  # in meters\n",
        "\n",
        "\n",
        "volume = length * width * height\n",
        "\n",
        "\n",
        "print(f\"The volume of the cuboid is: {volume} cubic meters\")\n"
      ],
      "metadata": {
        "id": "IZ5ro6s9jCx8"
      },
      "execution_count": null,
      "outputs": []
    },
    {
      "cell_type": "markdown",
      "source": [
        "2B. Write a program that finds the area of a circle that has a radius of 4m. (You can take pi as being 3.14)"
      ],
      "metadata": {
        "id": "mgfDFNxBjC78"
      }
    },
    {
      "cell_type": "code",
      "source": [
        "\n",
        "radius = 4\n",
        "pi = 3.14\n",
        "\n",
        "\n",
        "area = pi * (radius ** 2)\n",
        "\n",
        "\n",
        "print(f\"The area of the circle is: {area} square meters\")\n"
      ],
      "metadata": {
        "id": "YMRx47ktjDD7",
        "colab": {
          "base_uri": "https://localhost:8080/"
        },
        "outputId": "ab94fa50-f327-430f-c192-5855af08ec89"
      },
      "execution_count": 5,
      "outputs": [
        {
          "output_type": "stream",
          "name": "stdout",
          "text": [
            "The area of the circle is: 50.24 square meters\n"
          ]
        }
      ]
    },
    {
      "cell_type": "markdown",
      "source": [
        "2C. Write a program that finds the volume of a cone of radius 2m and height 5m. (You can take pi as being 3.14)"
      ],
      "metadata": {
        "id": "6lMyZAmzjDLN"
      }
    },
    {
      "cell_type": "code",
      "source": [
        "\n",
        "radius = 2\n",
        "height = 5\n",
        "pi = 3.14\n",
        "\n",
        "\n",
        "volume = (1/3) * pi * (radius**2) * height\n",
        "\n",
        "\n",
        "print(f\"The volume of the cone is: {volume} cubic meters\")\n"
      ],
      "metadata": {
        "id": "AX52qgBzjDTr",
        "colab": {
          "base_uri": "https://localhost:8080/"
        },
        "outputId": "d1855981-fb1f-4a76-a948-15b9ade72d14"
      },
      "execution_count": 6,
      "outputs": [
        {
          "output_type": "stream",
          "name": "stdout",
          "text": [
            "The volume of the cone is: 20.933333333333334 cubic meters\n"
          ]
        }
      ]
    },
    {
      "cell_type": "markdown",
      "source": [
        "2D. Write a python program that uses a loop to find the factorial of 5."
      ],
      "metadata": {
        "id": "iSdhsrKLjMIb"
      }
    },
    {
      "cell_type": "code",
      "source": [
        "\n",
        "n = 5\n",
        "\n",
        "\n",
        "factorial = 1\n",
        "\n",
        "\n",
        "for i in range(1, n + 1):\n",
        "    factorial *= i\n",
        "\n",
        "print(f\"The factorial of {n} is: {factorial}\")\n"
      ],
      "metadata": {
        "id": "AAD9R7cfjKb0",
        "colab": {
          "base_uri": "https://localhost:8080/"
        },
        "outputId": "3e816751-4346-4a7b-e293-5984fadcd2bd"
      },
      "execution_count": 7,
      "outputs": [
        {
          "output_type": "stream",
          "name": "stdout",
          "text": [
            "The factorial of 5 is: 120\n"
          ]
        }
      ]
    }
  ]
}