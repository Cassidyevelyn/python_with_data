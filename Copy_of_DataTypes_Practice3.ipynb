{
  "nbformat": 4,
  "nbformat_minor": 0,
  "metadata": {
    "colab": {
      "provenance": [],
      "include_colab_link": true
    },
    "kernelspec": {
      "name": "python3",
      "display_name": "Python 3"
    },
    "language_info": {
      "name": "python"
    }
  },
  "cells": [
    {
      "cell_type": "markdown",
      "metadata": {
        "id": "view-in-github",
        "colab_type": "text"
      },
      "source": [
        "<a href=\"https://colab.research.google.com/github/Cassidyevelyn/python_with_data/blob/main/Copy_of_DataTypes_Practice3.ipynb\" target=\"_parent\"><img src=\"https://colab.research.google.com/assets/colab-badge.svg\" alt=\"Open In Colab\"/></a>"
      ]
    },
    {
      "cell_type": "markdown",
      "source": [
        "<a href=\"https://colab.research.google.com/github/StefanMeyer7/Python-Fundamentals/blob/main/DataTypes_Practice1.ipynb\" target=\"_parent\"><img src=\"https://colab.research.google.com/assets/colab-badge.svg\" alt=\"Open In Colab\"/></a>"
      ],
      "metadata": {
        "id": "hypbENCo_DGn"
      }
    },
    {
      "cell_type": "markdown",
      "source": [
        "# Working with Strings"
      ],
      "metadata": {
        "id": "AhRgOJ7ryJVH"
      }
    },
    {
      "cell_type": "markdown",
      "source": [
        "---\n",
        "### Exercise 1 input and strings\n",
        "**Recap**: to get input from the user and store it in a variable, use the instruction  \n",
        "\n",
        "*variableName = input(\"message asking user for required information\")*  \n",
        "\n",
        "*Remember: Unless you state otherwise, all input is String data*  \n",
        "\n",
        "Write a function called **print_initials()** which will:\n",
        "\n",
        "*  ask the user to input a **first_name**  \n",
        "*  ask the user to input a **middle_name**  \n",
        "*  ask the user to input a **surname**  \n",
        "*  print the name in the format: `surname`, `first_name` `middle_name`  \n",
        "\n",
        "Test Inputs:  \n",
        "Peter  \n",
        "Barry  \n",
        "Burrows  \n",
        "\n",
        "Expected output:  \n",
        "Burrows, Peter Barry\n"
      ],
      "metadata": {
        "id": "7PXmCFw5yL1k"
      }
    },
    {
      "cell_type": "code",
      "source": [
        "def print_initials():\n",
        "    first_name = input(\"Please enter your first name: \")\n",
        "    middle_name = input(\"Please enter your middle name: \")\n",
        "    surname = input(\"Please enter your surname: \")\n",
        "\n",
        "    full_name = f\"{surname}, {first_name} {middle_name}\"\n",
        "    print(full_name)\n",
        "\n",
        "# Test the function with the provided inputs\n",
        "print_initials()\n"
      ],
      "metadata": {
        "id": "yg4eXXaFyN7r",
        "outputId": "ac13dcaa-877e-4315-ab94-4a1de687cfb1",
        "colab": {
          "base_uri": "https://localhost:8080/"
        }
      },
      "execution_count": null,
      "outputs": [
        {
          "output_type": "stream",
          "name": "stdout",
          "text": [
            "Please enter your first name: Peter\n",
            "Please enter your middle name: Barry\n",
            "Please enter your surname: Burrows\n",
            "Burrows, Peter Barry\n"
          ]
        }
      ]
    },
    {
      "cell_type": "markdown",
      "source": [
        "# Substrings\n",
        "\n",
        "---\n",
        "\n",
        "A String is a set of characters. Each String has a length and each character in the string has a position or index. Indexing starts at 0 so the first character of a String is at position 0. As Strings have varying lengths, the last character of the String is at position -1. To find any character in the String, count from 0 or, if you want to count backwards from the end, count back from -1.  \n",
        "\n",
        "You can get a particular character, or a set of consecutive characters (substring) from a String using [] and the positions of the characters you want.  \n",
        "\n",
        "Example:  \n",
        "To get the first letter of a String (in this case the String is called **name**)\n",
        "**first_letter** = `name`[0]  \n",
        "**second_letter** = `name`[1]  \n",
        "**sixth_letter** = `name`[5]  \n",
        "\n",
        "To get the last letter of name:  \n",
        "**last_letter** = `name`[-1]  \n",
        "**second_last_letter** = `name`[-2]  \n",
        "**third_last_letter** = `name`[-3]  \n",
        "\n",
        "Have a go"
      ],
      "metadata": {
        "id": "CCr-T7TYyOBZ"
      }
    },
    {
      "cell_type": "code",
      "source": [
        "def print_letters():\n",
        "   name = \"Robert\"\n",
        "   # add your code below here to get a particular letter and print it.\n",
        "   first_letter = name[0]\n",
        "   second_letter = name[1]\n",
        "   sixth_letter = name[5]\n",
        "\n",
        "   print(\"First letter:\", first_letter)\n",
        "   print(\"Second letter:\", second_letter)\n",
        "   print(\"Sixth letter:\", sixth_letter)\n",
        "\n",
        "\n",
        "print_letters()"
      ],
      "metadata": {
        "id": "pfw0aN7CyQTJ",
        "colab": {
          "base_uri": "https://localhost:8080/"
        },
        "outputId": "6ac23696-d117-465b-8ade-e8f20943e5bc"
      },
      "execution_count": null,
      "outputs": [
        {
          "output_type": "stream",
          "name": "stdout",
          "text": [
            "First letter: R\n",
            "Second letter: o\n",
            "Sixth letter: t\n"
          ]
        }
      ]
    },
    {
      "cell_type": "markdown",
      "source": [
        "To get a set of letters from a String, use the slice operator.  \n",
        "\n",
        "*substring = stringname[ index of first letter to be included_ : index + 1 of last letter ]*\n",
        "\n",
        "Example:  \n",
        "\n",
        "**first_three_letters** = `name`[0:3]  \n",
        "**second_to_fifth_letters** = `name`[1:5]  \n",
        "**last_three_letters** = `name`[-3:]  \n",
        "\n",
        "*Note: we can't add 1 to -1 as the result would be 0 and confused with the first letter, so we omit the second number to indicate that we want all characters to the end of the string*"
      ],
      "metadata": {
        "id": "ARnlyx-2yVBj"
      }
    },
    {
      "cell_type": "code",
      "source": [
        "def print_substrings():\n",
        "   name = \"Robert\"\n",
        "   # add your code below here to get a particular letter, or set of letters and print them.\n",
        "   first_three_letters = name[0:3]  # Index 0 to 2 (inclusive)\n",
        "   second_to_fifth_letters = name[1:5]  # Index 1 to 4 (inclusive)\n",
        "   last_three_letters = name[-3:]  # Index -3 to the end\n",
        "\n",
        "   print(\"First three letters:\", first_three_letters)\n",
        "   print(\"Second to fifth letters:\", second_to_fifth_letters)\n",
        "   print(\"Last three letters:\", last_three_letters)\n",
        "\n",
        "print_substrings()"
      ],
      "metadata": {
        "id": "uyG73iAFyWCM",
        "outputId": "b39edd67-aac7-44d8-8e15-4a40e2748157",
        "colab": {
          "base_uri": "https://localhost:8080/"
        }
      },
      "execution_count": null,
      "outputs": [
        {
          "output_type": "stream",
          "name": "stdout",
          "text": [
            "First three letters: Rob\n",
            "Second to fifth letters: ober\n",
            "Last three letters: ert\n"
          ]
        }
      ]
    },
    {
      "cell_type": "markdown",
      "source": [
        "---\n",
        "### Exercise 2 - substrings\n",
        "\n",
        "Write a function called **print_substring()** which will:\n",
        "\n",
        "Ask the user to input a **name** of at least 5 letters  \n",
        "Print the **first** and the **fourth** letters in the `name`  \n",
        "\n",
        "Test Inputs:  \n",
        "Bartholomew  \n",
        "\n",
        "Expected output:  \n",
        "First letter is B, fourth letter is t\n"
      ],
      "metadata": {
        "id": "GjwIqqCtyYFE"
      }
    },
    {
      "cell_type": "code",
      "source": [
        "def print_substring():\n",
        "    name = input(\"Please enter a name of at least 5 letters: \")\n",
        "    first_letter = name[0]\n",
        "    fourth_letter = name[3]\n",
        "\n",
        "    print(f\"First letter is {first_letter}, fourth letter is {fourth_letter}\")\n",
        "\n",
        "# Test the function with the provided input\n",
        "print_substring()"
      ],
      "metadata": {
        "id": "9rX2HoZtyZ9N",
        "outputId": "c90f68fa-720e-4432-adb1-b01a1fcb3be9",
        "colab": {
          "base_uri": "https://localhost:8080/"
        }
      },
      "execution_count": null,
      "outputs": [
        {
          "output_type": "stream",
          "name": "stdout",
          "text": [
            "Please enter a name of at least 5 letters: Bartholomew\n",
            "First letter is B, fourth letter is t\n"
          ]
        }
      ]
    },
    {
      "cell_type": "markdown",
      "source": [
        "---\n",
        "### Exercise 3  - Formatting String output  \n",
        "\n",
        "Write a function called **print_formatted()** which will:  \n",
        "\n",
        "*  ask the user to input a **house_number**\n",
        "*  ask the user to input a **road_name**, then a **town**, then a **postcode**  \n",
        "*  print the address on three lines (`house_number` with a comma and `road_name`, `town`, `postcode`)  \n",
        "\n",
        "Test Input:  \n",
        "10  \n",
        "Old Road  \n",
        "Chatham  \n",
        "ME4 1AA  \n",
        "\n",
        "Expected output:   \n",
        "10, Old Road  \n",
        "Chatham  \n",
        "ME4 1AA  "
      ],
      "metadata": {
        "id": "AHTaERl3ycDz"
      }
    },
    {
      "cell_type": "code",
      "source": [
        "def print_formatted():\n",
        "  house_number = input(\"Please enter a house number: \")\n",
        "  road_name = input(\"Please enter a road name: \")\n",
        "  town = input(\"Please enter a town: \")\n",
        "  postcode = input(\"please enter a postcode: \")\n",
        "\n",
        "  print(f\"{house_number}, {road_name}\")\n",
        "  print(town)\n",
        "  print(postcode)\n",
        "\n",
        "\n",
        "\n",
        "print_formatted()"
      ],
      "metadata": {
        "id": "m8S_no9Kyc48",
        "outputId": "26c2c8ad-75f1-40ae-da98-9db448dfe25a",
        "colab": {
          "base_uri": "https://localhost:8080/"
        }
      },
      "execution_count": null,
      "outputs": [
        {
          "output_type": "stream",
          "name": "stdout",
          "text": [
            "Please enter a house number: 10\n",
            "Please enter a road name: Old road\n",
            "Please enter a town: Chatham\n",
            "please enter a postcode: ME4 1AA\n",
            "10, Old road\n",
            "Chatham\n",
            "ME4 1AA\n"
          ]
        }
      ]
    },
    {
      "cell_type": "markdown",
      "source": [
        "---\n",
        "### Exercise 3  - Formatting String output  \n",
        "\n",
        "Write a function called **print_formatted()** which will:  \n",
        "\n",
        "*  ask the user to input a **house_number**\n",
        "*  ask the user to input a **road_name**, then a **town**, then a **postcode**  \n",
        "*  print the address on three lines (`house_number` with a comma and `road_name`, `town`, `postcode`)  \n",
        "\n",
        "Test Input:  \n",
        "10  \n",
        "Old Road  \n",
        "Chatham  \n",
        "ME4 1AA  \n",
        "\n",
        "Expected output:   \n",
        "10, Old Road  \n",
        "Chatham  \n",
        "ME4 1AA  "
      ],
      "metadata": {
        "id": "HLCqyDx9jV5h"
      }
    },
    {
      "cell_type": "markdown",
      "source": [
        "# String functions\n",
        "\n",
        "## String length\n",
        "\n",
        "You can get the length of a String using the len() function   \n",
        "e.g. **namelength** = len(`name`)  \n"
      ],
      "metadata": {
        "id": "qW8hUmVWyfBC"
      }
    },
    {
      "cell_type": "markdown",
      "source": [
        "---\n",
        "### Exercise 4 - String length  \n",
        "\n",
        "Write a function called **print_namelength()** which will:  \n",
        "\n",
        "*  ask the user to input a **name**  \n",
        "*  assign the length of the name to a variable called **name_length**  \n",
        "*  print the `name` followed by a comma, then `name_length`, then the word “characters”.\n",
        "\n",
        "Test Input:  \n",
        "William  \n",
        "\n",
        "Expected Output:  \n",
        "William, 7 characters"
      ],
      "metadata": {
        "id": "XkKLQYZayiwM"
      }
    },
    {
      "cell_type": "code",
      "source": [
        "def print_namelength():\n",
        "    name = input(\"Please enter a name: \")\n",
        "    name_length = len(name)\n",
        "    print(f\"{name}, {name_length} characters\")\n",
        "\n",
        "# Test the function with the provided input\n",
        "print_namelength()"
      ],
      "metadata": {
        "id": "8DLhrrP4ykQY",
        "outputId": "6589efe3-5d6b-4d0b-d298-4d30108d96c4",
        "colab": {
          "base_uri": "https://localhost:8080/"
        }
      },
      "execution_count": null,
      "outputs": [
        {
          "output_type": "stream",
          "name": "stdout",
          "text": [
            "Please enter a name: William\n",
            "William, 7 characters\n"
          ]
        }
      ]
    },
    {
      "cell_type": "markdown",
      "source": [
        "## String Case Conversion  \n",
        "\n",
        "When you start to compare and search for strings, you will need to be aware that data doesn’t always turn up in the state we would like it.  People often forget to use capital letters at the beginning of their names and will sometimes use all capitals.  It is useful, therefore, to be able to convert a String either to all capitals or all lowercase, depending on how you want to see it.  \n",
        "\n",
        "There are three functions for this, which are linked to the String (here the String variable is called **name**).  \n",
        "\n",
        "*   **upper_case_name** = `name.upper()`\n",
        "*   **lower_case_name** = `name.lower()`\n",
        "*   **capitalised_name** = `name.capitalize()`\n"
      ],
      "metadata": {
        "id": "zZBVBzSFymrZ"
      }
    },
    {
      "cell_type": "markdown",
      "source": [
        "---\n",
        "### Exercise 5 - case conversion  \n",
        "\n",
        "Write a function called **convert_to_capitals()** which will:  \n",
        "\n",
        "*  ask the user to input a **name** in lowercase letters\n",
        "*  assign the capitalised String to the variable **capitalised_name**\n",
        "*  print the `name` in capitals  \n",
        "\n",
        "Test Input:  \n",
        "jaswinder  \n",
        "\n",
        "Expected output:  \n",
        "JASWINDER  \n"
      ],
      "metadata": {
        "id": "Q6dE2J5wywky"
      }
    },
    {
      "cell_type": "code",
      "source": [
        "def convert_to_capitals():\n",
        "    name = input(\"Please enter a name in lowercase letters: \")\n",
        "    capitalised_name = name.upper()\n",
        "    print(capitalised_name)\n",
        "\n",
        "convert_to_capitals()"
      ],
      "metadata": {
        "id": "1VT1qkWryxda",
        "outputId": "b18ad2bb-0383-4880-edd6-cd4d5d55e9cd",
        "colab": {
          "base_uri": "https://localhost:8080/"
        }
      },
      "execution_count": null,
      "outputs": [
        {
          "output_type": "stream",
          "name": "stdout",
          "text": [
            "Please enter a name in lowercase letters: jaswinder\n",
            "JASWINDER\n"
          ]
        }
      ]
    },
    {
      "cell_type": "markdown",
      "source": [
        "---\n",
        "### Exercise 6 - case conversion  \n",
        "\n",
        "Write a function called **capitalise_names()** which will:  \n",
        "\n",
        "*  ask the user to input a **name** and a **surname**  \n",
        "*  print both `name` and `surname` in lowercase with a capital letter at the start, even if they didn't have capitals when they were typed in  \n",
        "\n",
        "Test Input:  \n",
        "benJamIN  \n",
        "\n",
        "Expected output:  \n",
        "Benjamin\n"
      ],
      "metadata": {
        "id": "jHiY1vV_yzNt"
      }
    },
    {
      "cell_type": "code",
      "source": [
        "def capitalise_names():\n",
        "  name = input(\"Please enter a name: \")\n",
        "  surname = input(\"Please enter a surname: \")\n",
        "\n",
        "  capitalise_name = name.capitalize()\n",
        "  capitalise_surname = surname.capitalize()\n",
        "\n",
        "  print(capitalise_name)\n",
        "  print(capitalise_surname)\n",
        "\n",
        "\n",
        "capitalise_names()\n",
        "\n",
        "\n",
        "\n",
        "\n"
      ],
      "metadata": {
        "id": "wn8uFJhoy3DL",
        "outputId": "dc2dd4d6-c8cf-43ee-c233-79b805e75546",
        "colab": {
          "base_uri": "https://localhost:8080/"
        }
      },
      "execution_count": null,
      "outputs": [
        {
          "output_type": "stream",
          "name": "stdout",
          "text": [
            "Please enter a name: benJamIN\n",
            "Please enter a surname: sMiTH\n",
            "Benjamin\n",
            "Smith\n"
          ]
        }
      ]
    },
    {
      "cell_type": "markdown",
      "source": [
        "---\n",
        "### Exercise 7 - Substrings\n",
        "\n",
        "Write a function called **print_postcode_letters()** which will:   \n",
        "\n",
        "*  ask the user to enter a **postcode**  \n",
        "*  assign the first two letters of the postcode to a variable called **postcode_area**  \n",
        "*  convert the `postcode_area` String to capital letters and assign this to a variable called **capitalised_area**  \n",
        "*  print the `capitalised_area`  \n",
        "\n",
        "Test Input:  \n",
        "Me4 6bb  \n",
        "\n",
        "Expected output:  \n",
        "ME\n"
      ],
      "metadata": {
        "id": "Nf6nOs8Ny3f8"
      }
    },
    {
      "cell_type": "code",
      "source": [
        "def print_postal_code():\n",
        "    postcode = input(\"Please enter a postcode: \")\n",
        "    postcode_area = postcode[:2]\n",
        "    capitalise_area = postcode_area.upper()\n",
        "    print(capitalise_area)\n",
        "\n",
        "print_postal_code()\n"
      ],
      "metadata": {
        "id": "pv6ySeqFy5EQ",
        "outputId": "4d9012d5-f102-44b6-ebdb-a3ee1bd5a191",
        "colab": {
          "base_uri": "https://localhost:8080/"
        }
      },
      "execution_count": null,
      "outputs": [
        {
          "output_type": "stream",
          "name": "stdout",
          "text": [
            "Please enter a postcode: Me4 6bb\n",
            "ME\n"
          ]
        }
      ]
    },
    {
      "cell_type": "markdown",
      "source": [
        "---\n",
        "### Exercise 8 - Floor division and slicing\n",
        "\n",
        "Write a function called **print_half_word()** which will:\n",
        "\n",
        "*  ask the user to enter a **word**  \n",
        "*  assign the value of half the length of the `word` to a variable called **half_length**  \n",
        "*  assign the first half of the `word` to a new variable called **half_word**  \n",
        "*  print `half_word`  \n",
        "\n",
        "*Hint:  when dividing the length of the word by 2, use floor division (//) so that you get a whole number of letters).  To get the first half of the word, use word[0:halfLength]*  \n",
        "\n",
        "Test input:  \n",
        "Runtime  \n",
        "\n",
        "Expected output:  \n",
        "Run"
      ],
      "metadata": {
        "id": "TZfFe6t6y5qG"
      }
    },
    {
      "cell_type": "code",
      "source": [
        "def print_half_word():\n",
        "  word = input(\"Please enter a word: \")\n",
        "  half_length = len(word) // 2\n",
        "  half_word = word[:half_length]\n",
        "  print(half_word)\n",
        "\n",
        "print_half_word()"
      ],
      "metadata": {
        "id": "5eyPFKAby8rb",
        "outputId": "58cc32a4-e7ce-4cca-9fe9-897bc04ad5c8",
        "colab": {
          "base_uri": "https://localhost:8080/"
        }
      },
      "execution_count": null,
      "outputs": [
        {
          "output_type": "stream",
          "name": "stdout",
          "text": [
            "Please enter a word: Runtime\n",
            "Run\n"
          ]
        }
      ]
    },
    {
      "cell_type": "markdown",
      "source": [
        "---\n",
        "### Exercise 9 - String repetition\n",
        "\n",
        "Write a function called **repeat_two_letters()** which will:\n",
        "\n",
        "*  ask the user to enter a **word**  \n",
        "*  assign the last two letters of the `word` to a variable called **last_two**  \n",
        "*  assign a string made of 5 copies of the `last_two` (*Hint: `last_two`* * 5 *will do it)* to a variable called **five_copies**  \n",
        "*  print `five_copies`\n",
        "\n",
        "Test Input:\n",
        "Data\n",
        "\n",
        "Expected output:\n",
        "tatatatata\n"
      ],
      "metadata": {
        "id": "kqKi-xSDy9wq"
      }
    },
    {
      "cell_type": "code",
      "source": [
        "def repeat_two_letters():\n",
        "    word = input(\"Please enter a word: \")\n",
        "    last_two = word[-2:]\n",
        "    five_copies = last_two * 5\n",
        "    print(five_copies)\n",
        "\n",
        "repeat_two_letters()\n"
      ],
      "metadata": {
        "id": "Usl-n3soy_uX",
        "outputId": "2c3ec044-5052-4f4c-97cf-203787ce887b",
        "colab": {
          "base_uri": "https://localhost:8080/"
        }
      },
      "execution_count": null,
      "outputs": [
        {
          "output_type": "stream",
          "name": "stdout",
          "text": [
            "Please enter a word: Data\n",
            "tatatatata\n"
          ]
        }
      ]
    },
    {
      "cell_type": "markdown",
      "source": [
        "---\n",
        "### Exercise 10 - converting String to lower case\n",
        "\n",
        "Write a function called **lowerCase_threeLetters()** which will:  \n",
        "\n",
        "*  assign the value “january” to a variable called **month**  \n",
        "*  assign the first three characters of `month` to a variable called **month_short**   \n",
        "*  capitalise `month_short` and store the result back in `month_short`\n",
        "*  assign the rest of the characters to a variable called **month_rest**  \n",
        "*  join `month_short` and `month_rest` together and store the result back into the variable `month`  \n",
        "*  print `month`  \n",
        "\n",
        "Expected output:  \n",
        "JANuary  "
      ],
      "metadata": {
        "id": "q3o2ryfazADo"
      }
    },
    {
      "cell_type": "code",
      "source": [
        "def lowerCase_threeLetters():\n",
        "    month = \"january\"\n",
        "    month_short = month[0:3].upper()\n",
        "    month_rest = month[-4:]\n",
        "    month = month_short + month_rest\n",
        "    print(month)\n",
        "\n",
        "# Call the function to get the expected output\n",
        "lowerCase_threeLetters()\n"
      ],
      "metadata": {
        "id": "wZ9r5M7XzB4q",
        "outputId": "6e8b6638-b0f4-4e56-c896-d4aa07b1f31b",
        "colab": {
          "base_uri": "https://localhost:8080/"
        }
      },
      "execution_count": null,
      "outputs": [
        {
          "output_type": "stream",
          "name": "stdout",
          "text": [
            "JANuary\n"
          ]
        }
      ]
    }
  ]
}