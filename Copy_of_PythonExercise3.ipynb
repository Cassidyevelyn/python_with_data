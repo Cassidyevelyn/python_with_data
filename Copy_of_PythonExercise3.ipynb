{
  "nbformat": 4,
  "nbformat_minor": 0,
  "metadata": {
    "colab": {
      "provenance": [],
      "include_colab_link": true
    },
    "kernelspec": {
      "name": "python3",
      "display_name": "Python 3"
    },
    "language_info": {
      "name": "python"
    }
  },
  "cells": [
    {
      "cell_type": "markdown",
      "metadata": {
        "id": "view-in-github",
        "colab_type": "text"
      },
      "source": [
        "<a href=\"https://colab.research.google.com/github/Cassidyevelyn/python_with_data/blob/main/Copy_of_PythonExercise3.ipynb\" target=\"_parent\"><img src=\"https://colab.research.google.com/assets/colab-badge.svg\" alt=\"Open In Colab\"/></a>"
      ]
    },
    {
      "cell_type": "markdown",
      "source": [
        "1A. Write a Python program to sum all the items in a list."
      ],
      "metadata": {
        "id": "06HPv0TNKzcW"
      }
    },
    {
      "cell_type": "code",
      "execution_count": 1,
      "metadata": {
        "id": "sHKUtK2dKukc",
        "colab": {
          "base_uri": "https://localhost:8080/"
        },
        "outputId": "db9b446e-9388-47d1-e93c-6cddacc4c11b"
      },
      "outputs": [
        {
          "output_type": "stream",
          "name": "stdout",
          "text": [
            "The sum of the items in the list is: 15\n"
          ]
        }
      ],
      "source": [
        "def sum_list(items):\n",
        "    total = 0\n",
        "    for item in items:\n",
        "        total += item\n",
        "    return total\n",
        "\n",
        "# Example\n",
        "my_list = [1, 2, 3, 4, 5]\n",
        "result = sum_list(my_list)\n",
        "print(f\"The sum of the items in the list is: {result}\")\n"
      ]
    },
    {
      "cell_type": "markdown",
      "source": [
        "1B. Write a Python program to count the number of strings where the string length is 2 or more and the first and last character are same from a given list of strings."
      ],
      "metadata": {
        "id": "mnY0V50-K0iF"
      }
    },
    {
      "cell_type": "code",
      "source": [
        "def count_strings_with_same_first_and_last(strings):\n",
        "    count = 0\n",
        "    for s in strings:\n",
        "        if len(s) >= 2 and s[0] == s[-1]:\n",
        "            count += 1\n",
        "    return count\n",
        "\n",
        "# Example usage:\n",
        "my_list = [\"level\", \"ewe\", \"lol\", \"wow\", \"tommy\"]\n",
        "result = count_strings_with_same_first_and_last(my_list)\n",
        "print(f\"The number of strings with the same first and last character is: {result}\")\n"
      ],
      "metadata": {
        "id": "Q-N0EiDzK0p0",
        "colab": {
          "base_uri": "https://localhost:8080/"
        },
        "outputId": "ab930c42-1522-45f0-d8e4-6eb644951373"
      },
      "execution_count": 7,
      "outputs": [
        {
          "output_type": "stream",
          "name": "stdout",
          "text": [
            "The number of strings with the same first and last character is: 4\n"
          ]
        }
      ]
    },
    {
      "cell_type": "markdown",
      "source": [
        "1C. Write a Python program to get a list, sorted in increasing order by the last element in each tuple from a given list of non-empty tuples."
      ],
      "metadata": {
        "id": "NEataweqK0xV"
      }
    },
    {
      "cell_type": "code",
      "source": [
        "def get_last_element(tuple):\n",
        "    return tuple[-1]\n",
        "\n",
        "def sort_tuples_by_last_element(tuples):\n",
        "    return sorted(tuples, key=get_last_element)\n",
        "\n",
        "# Example\n",
        "my_tuples = [(1, 5), (3, 2), (6, 8), (2, 3), (5, 1)]\n",
        "sorted_tuples = sort_tuples_by_last_element(my_tuples)\n",
        "print(\"Sorted tuples by last element:\", sorted_tuples)\n"
      ],
      "metadata": {
        "id": "CBw_nFtnK032",
        "colab": {
          "base_uri": "https://localhost:8080/"
        },
        "outputId": "f0ecb2c0-9223-4574-aeef-23b3f3af8aae"
      },
      "execution_count": 8,
      "outputs": [
        {
          "output_type": "stream",
          "name": "stdout",
          "text": [
            "Sorted tuples by last element: [(5, 1), (3, 2), (2, 3), (1, 5), (6, 8)]\n"
          ]
        }
      ]
    },
    {
      "cell_type": "markdown",
      "source": [
        "2A. Write a Python program to remove duplicates from a list."
      ],
      "metadata": {
        "id": "gCcuirvhK0-t"
      }
    },
    {
      "cell_type": "code",
      "source": [
        "def remove_duplicates(input_list):\n",
        "    return list(set(input_list))\n",
        "\n",
        "# Example\n",
        "my_list = [1, 2, 3, 2, 4, 3, 5, 1]\n",
        "unique_list = remove_duplicates(my_list)\n",
        "print(\"List with duplicates removed:\", unique_list)\n"
      ],
      "metadata": {
        "id": "Iqt5oNJwK1DV",
        "colab": {
          "base_uri": "https://localhost:8080/"
        },
        "outputId": "44384f4b-c068-44d8-9bf7-839d46803ec3"
      },
      "execution_count": 9,
      "outputs": [
        {
          "output_type": "stream",
          "name": "stdout",
          "text": [
            "List with duplicates removed: [1, 2, 3, 4, 5]\n"
          ]
        }
      ]
    },
    {
      "cell_type": "markdown",
      "source": [
        "2B. Write a Python function that takes two lists and returns True if they have at least one common member."
      ],
      "metadata": {
        "id": "icLILXYUK1IF"
      }
    },
    {
      "cell_type": "code",
      "source": [
        "def have_common_member(list1, list2):\n",
        "    return any(item in list1 for item in list2)\n",
        "\n",
        "# Example\n",
        "list1 = [1, 2, 3, 4, 5]\n",
        "list2 = [5, 6, 7, 8, 9]\n",
        "\n",
        "result = have_common_member(list1, list2)\n",
        "print(f\"Do the lists have at least one common member? {result}\")\n",
        "\n"
      ],
      "metadata": {
        "id": "HhDboPZIK1MZ",
        "colab": {
          "base_uri": "https://localhost:8080/"
        },
        "outputId": "cf2a78ad-8dd5-4a13-aa15-e88a9f82e122"
      },
      "execution_count": 10,
      "outputs": [
        {
          "output_type": "stream",
          "name": "stdout",
          "text": [
            "Do the lists have at least one common member? True\n"
          ]
        }
      ]
    },
    {
      "cell_type": "markdown",
      "source": [
        "2C. Write a Python program to print the numbers of a specified list after removing even numbers from it."
      ],
      "metadata": {
        "id": "22atu-SmK1Rm"
      }
    },
    {
      "cell_type": "code",
      "source": [
        "def remove_even_numbers(input_list):\n",
        "    return [num for num in input_list if num % 2 != 0]\n",
        "\n",
        "# Example\n",
        "my_list = [1, 2, 3, 4, 5, 6, 7, 8, 9]\n",
        "filtered_list = remove_even_numbers(my_list)\n",
        "print(\"List after removing even numbers:\", filtered_list)\n"
      ],
      "metadata": {
        "id": "8Xnu2OBvK1V-",
        "colab": {
          "base_uri": "https://localhost:8080/"
        },
        "outputId": "446942ec-3277-4d60-9b29-dbb707b853eb"
      },
      "execution_count": 11,
      "outputs": [
        {
          "output_type": "stream",
          "name": "stdout",
          "text": [
            "List after removing even numbers: [1, 3, 5, 7, 9]\n"
          ]
        }
      ]
    },
    {
      "cell_type": "markdown",
      "source": [
        "3A. Write a Python program to generate and print a list of first and last 5 elements where the values are square of numbers between 1 and 30 (both included)."
      ],
      "metadata": {
        "id": "YoKsC5HWK1ae"
      }
    },
    {
      "cell_type": "code",
      "source": [
        "\n",
        "squares = [x ** 2 for x in range(1, 31)]\n",
        "\n",
        "\n",
        "first_5 = squares[:5]\n",
        "last_5 = squares[-5:]\n",
        "\n",
        "\n",
        "result_list = first_5 + last_5\n",
        "\n",
        "\n",
        "print(\"First and last 5 elements of squares list:\")\n",
        "print(result_list)\n"
      ],
      "metadata": {
        "id": "l5rPnietK1e4",
        "colab": {
          "base_uri": "https://localhost:8080/"
        },
        "outputId": "98573514-23f4-48ab-a0cd-58fc19379b3f"
      },
      "execution_count": 12,
      "outputs": [
        {
          "output_type": "stream",
          "name": "stdout",
          "text": [
            "First and last 5 elements of squares list:\n",
            "[1, 4, 9, 16, 25, 676, 729, 784, 841, 900]\n"
          ]
        }
      ]
    },
    {
      "cell_type": "markdown",
      "source": [
        "3B. Write a Python program to get the difference between the two lists."
      ],
      "metadata": {
        "id": "72sVaoAyK1jG"
      }
    },
    {
      "cell_type": "code",
      "source": [
        "def list_difference(list1, list2):\n",
        "    return list(set(list1) - set(list2))\n",
        "\n",
        "# Example\n",
        "list1 = [1, 2, 3, 4, 5]\n",
        "list2 = [4, 5, 6, 7, 8]\n",
        "\n",
        "difference = list_difference(list1, list2)\n",
        "print(\"The difference between list1 and list2 is:\", difference)\n",
        "\n"
      ],
      "metadata": {
        "id": "RsqiGkbNK1oP",
        "colab": {
          "base_uri": "https://localhost:8080/"
        },
        "outputId": "bc1ead87-3352-48b0-c8d8-7c84a7e1c69b"
      },
      "execution_count": 13,
      "outputs": [
        {
          "output_type": "stream",
          "name": "stdout",
          "text": [
            "The difference between list1 and list2 is: [1, 2, 3]\n"
          ]
        }
      ]
    },
    {
      "cell_type": "markdown",
      "source": [
        "3C. Write a Python program to convert a list of characters into a string."
      ],
      "metadata": {
        "id": "cwb0kd3sK1vt"
      }
    },
    {
      "cell_type": "code",
      "source": [
        "def list_to_string(char_list):\n",
        "    return ''.join(char_list)\n",
        "\n",
        "# Example\n",
        "char_list = ['T', 'o', 'm', 'm', 'y']\n",
        "\n",
        "result_string = list_to_string(char_list)\n",
        "print(\"Resultant string:\", result_string)\n"
      ],
      "metadata": {
        "id": "9oetbMLdK11N",
        "colab": {
          "base_uri": "https://localhost:8080/"
        },
        "outputId": "85da67ce-aada-4d4c-bbb6-c9f4ec4913d4"
      },
      "execution_count": 15,
      "outputs": [
        {
          "output_type": "stream",
          "name": "stdout",
          "text": [
            "Resultant string: Tommy\n"
          ]
        }
      ]
    },
    {
      "cell_type": "markdown",
      "source": [
        "4A. Write a Python program to select an item randomly from a list."
      ],
      "metadata": {
        "id": "pRBFvYEJK17O"
      }
    },
    {
      "cell_type": "code",
      "source": [
        "import random\n",
        "\n",
        "def random_choice(input_list):\n",
        "    return random.choice(input_list)\n",
        "\n",
        "\n",
        "my_list = [1, 2, 3, 4, 5]\n",
        "\n",
        "random_item = random_choice(my_list)\n",
        "print(\"Randomly selected item:\", random_item)\n"
      ],
      "metadata": {
        "id": "Z3mdz8x5K1_s",
        "colab": {
          "base_uri": "https://localhost:8080/"
        },
        "outputId": "69e97718-f7ae-41bf-81e2-e626f504b934"
      },
      "execution_count": 16,
      "outputs": [
        {
          "output_type": "stream",
          "name": "stdout",
          "text": [
            "Randomly selected item: 3\n"
          ]
        }
      ]
    },
    {
      "cell_type": "markdown",
      "source": [
        "4B.Write a Python program to find the second largest number in a list."
      ],
      "metadata": {
        "id": "KZdXkW5MPjot"
      }
    },
    {
      "cell_type": "code",
      "source": [
        "def second_largest(numbers):\n",
        "    if len(numbers) < 2:\n",
        "        return \"List should have at least two elements\"\n",
        "\n",
        "    largest = float('-inf')\n",
        "    second_largest = float('-inf')\n",
        "\n",
        "    for num in numbers:\n",
        "        if num > largest:\n",
        "            second_largest = largest\n",
        "            largest = num\n",
        "        elif num > second_largest and num != largest:\n",
        "            second_largest = num\n",
        "\n",
        "    return second_largest\n",
        "\n",
        "# Example\n",
        "my_list = [12, 34, 45, 55, 66, 67, 88, 99]\n",
        "\n",
        "second_largest_number = second_largest(my_list)\n",
        "print(\"The second largest number is:\", second_largest_number)\n"
      ],
      "metadata": {
        "id": "4l3nkCRUK2KX",
        "colab": {
          "base_uri": "https://localhost:8080/"
        },
        "outputId": "666ecdac-067a-464b-af4e-d2a43dbbd6d4"
      },
      "execution_count": 17,
      "outputs": [
        {
          "output_type": "stream",
          "name": "stdout",
          "text": [
            "The second largest number is: 88\n"
          ]
        }
      ]
    },
    {
      "cell_type": "markdown",
      "source": [
        "5A. Write a Python program to count the number of elements in a list within a specified range."
      ],
      "metadata": {
        "id": "gUKwS8kEPkM6"
      }
    },
    {
      "cell_type": "code",
      "source": [
        "def count_elements_in_range(input_list, lower_bound, upper_bound):\n",
        "    count = 0\n",
        "    for element in input_list:\n",
        "        if lower_bound <= element <= upper_bound:\n",
        "            count += 1\n",
        "    return count\n",
        "\n",
        "# Example\n",
        "my_list = [10, 20, 30, 40, 50, 60, 70, 80, 90]\n",
        "lower_bound = 30\n",
        "upper_bound = 70\n",
        "\n",
        "count = count_elements_in_range(my_list, lower_bound, upper_bound)\n",
        "print(f\"Number of elements between {lower_bound} and {upper_bound}: {count}\")\n"
      ],
      "metadata": {
        "id": "DAnLmn_RPySc",
        "colab": {
          "base_uri": "https://localhost:8080/"
        },
        "outputId": "cc16f9f6-049a-4fd5-b6d5-c516dd61958b"
      },
      "execution_count": 18,
      "outputs": [
        {
          "output_type": "stream",
          "name": "stdout",
          "text": [
            "Number of elements between 30 and 70: 5\n"
          ]
        }
      ]
    },
    {
      "cell_type": "markdown",
      "source": [
        "5B. Write a Python program to split a list into different variables."
      ],
      "metadata": {
        "id": "3bOmmaEbK2E8"
      }
    },
    {
      "cell_type": "code",
      "source": [
        "\n",
        "my_list = [1, 2, 3, 4, 5]\n",
        "\n",
        "\n",
        "var1, var2, var3, var4, var5 = my_list\n",
        "\n",
        "\n",
        "print(\"var1:\", var1)\n",
        "print(\"var2:\", var2)\n",
        "print(\"var3:\", var3)\n",
        "print(\"var4:\", var4)\n",
        "print(\"var5:\", var5)\n"
      ],
      "metadata": {
        "id": "lBYfMtFnRBsz",
        "colab": {
          "base_uri": "https://localhost:8080/"
        },
        "outputId": "87848d28-0b62-415e-e438-fc699a5c2677"
      },
      "execution_count": 19,
      "outputs": [
        {
          "output_type": "stream",
          "name": "stdout",
          "text": [
            "var1: 1\n",
            "var2: 2\n",
            "var3: 3\n",
            "var4: 4\n",
            "var5: 5\n"
          ]
        }
      ]
    },
    {
      "cell_type": "markdown",
      "source": [
        "6A. Merge the following dictionaries into one"
      ],
      "metadata": {
        "id": "hH16U6KcRARD"
      }
    },
    {
      "cell_type": "code",
      "source": [
        "dict1 = {'Ten': 10, 'Twenty': 20, 'Thirty': 30}\n",
        "dict2 = {'Thirty': 30, 'Fourty': 40, 'Fifty': 50}\n",
        "\n",
        "\n",
        "dict1.update(dict2)\n",
        "\n",
        "\n",
        "merged_dict = dict1\n",
        "\n",
        "\n",
        "print(\"Merged dictionary:\")\n",
        "print(merged_dict)"
      ],
      "metadata": {
        "id": "z_ce9ZOHRAYr",
        "colab": {
          "base_uri": "https://localhost:8080/"
        },
        "outputId": "abb0b143-667d-4ebf-ffda-5369ff627729"
      },
      "execution_count": 20,
      "outputs": [
        {
          "output_type": "stream",
          "name": "stdout",
          "text": [
            "Merged dictionary:\n",
            "{'Ten': 10, 'Twenty': 20, 'Thirty': 30, 'Fourty': 40, 'Fifty': 50}\n"
          ]
        }
      ]
    },
    {
      "cell_type": "markdown",
      "source": [
        "6B. Delete the set of keys from the following python dictionary"
      ],
      "metadata": {
        "id": "UOCvJRpvRAfq"
      }
    },
    {
      "cell_type": "code",
      "source": [
        "sampleDict = {\n",
        " \"name\": \"Kelly\",\n",
        " \"age\":25,\n",
        " \"salary\": 8000,\n",
        " \"city\": \"New york\"\n",
        "}\n",
        "\n",
        "\n",
        "keysToRemove = [\"name\", \"salary\"]\n",
        "\n",
        "for key in keysToRemove:\n",
        "    if key in sampleDict:\n",
        "        del sampleDict[key]\n",
        "\n",
        "\n",
        "print(\"Modified dictionary:\")\n",
        "print(sampleDict)\n"
      ],
      "metadata": {
        "id": "xJk1rTxKRAmV",
        "colab": {
          "base_uri": "https://localhost:8080/"
        },
        "outputId": "7f570f1e-9f73-4594-ffd3-233de07fe60f"
      },
      "execution_count": 21,
      "outputs": [
        {
          "output_type": "stream",
          "name": "stdout",
          "text": [
            "Modified dictionary:\n",
            "{'age': 25, 'city': 'New york'}\n"
          ]
        }
      ]
    }
  ]
}