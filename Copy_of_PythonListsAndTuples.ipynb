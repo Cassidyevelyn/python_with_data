{
  "cells": [
    {
      "cell_type": "markdown",
      "metadata": {
        "id": "view-in-github",
        "colab_type": "text"
      },
      "source": [
        "<a href=\"https://colab.research.google.com/github/Cassidyevelyn/python_with_data/blob/main/Copy_of_PythonListsAndTuples.ipynb\" target=\"_parent\"><img src=\"https://colab.research.google.com/assets/colab-badge.svg\" alt=\"Open In Colab\"/></a>"
      ]
    },
    {
      "cell_type": "markdown",
      "metadata": {
        "id": "Vvcpt-18AqVE"
      },
      "source": [
        "<a href=\"https://colab.research.google.com/github/StefanMeyer7/Python-Fundamentals/blob/main/PythonListsAndTuples.ipynb\" target=\"_parent\"><img src=\"https://colab.research.google.com/assets/colab-badge.svg\" alt=\"Open In Colab\"/></a>"
      ]
    },
    {
      "cell_type": "markdown",
      "metadata": {
        "id": "RXngLqUPdKdP"
      },
      "source": [
        "# Lists and tuples\n",
        "\n",
        "Often we need to store a number of single items of data together so that they can be processed together. This might be because all the data refers to one person (e.g. name, age, gender, etc) OR it might be because we have a set of data (e.g. all the items that should be displayed in a drop down list, such as all the years from this year back to 100 years ago so that someone can select their year of birth)\n",
        "\n",
        "Python has a range of data structures available including:\n",
        "*   lists  \n",
        "*   tuples  \n",
        "*   dictionaries  \n",
        "*   sets\n",
        "\n",
        "This worksheet looks at lists and tuples.\n",
        "\n",
        "## List\n",
        "A list is a set of related, individual data objects, that are indexed and can be processed as a whole, as subsets or as individual items.  Lists are stored, essentially, as contiguous items in memory so that access can be as quick as possible.  However, they are mutable (they can be changed after they are created and stored) and so those mechanisms need to include extra functionality to deal with changing list sizes.\n",
        "\n",
        "## Tuple\n",
        "Essentially the same as a list but it is immutable.  Once it has been created it can't be changed.  It is stored in memory as contiguous items, with the size required being fixed right from the start.  This makes it faster to access.\n",
        "\n",
        "The code below will create two lists and a tuple.\n",
        "*   the first list contains 1000 random numbers between 1 and 100\n",
        "*   the second list is of random length (up to 5000) and each item is one of the 9 characteristics that are protected under the Equality Act in the UK.\n",
        "*   the tuple contains the 9 protected characteristics\n",
        "\n",
        "Before you start the exercises, run the code below.  It will generate the lists and tuple so that you can use them in the exercises.  If you need to recreate the lists again (because you have changed them and need to work on the originals, just run this cell again).\n",
        "\n",
        "***Note:***  *a list variable contains a reference to the start of the list in memory, rather than storing the list itself.  This means that if you assign the list to another variable (to make a copy), it will only copy across the reference.  If you change the copy, you change the original list.*\n",
        "\n",
        "*If you need to make a copy of the list you will need to use a loop to create a new list and copy all items across.*"
      ]
    },
    {
      "cell_type": "code",
      "execution_count": null,
      "metadata": {
        "id": "wa-gYCbUdMjn"
      },
      "outputs": [],
      "source": [
        "from random import randint, choice\n",
        "\n",
        "def get_num_list():\n",
        "  num_list = [randint(1,100) for n in range(1000)]\n",
        "  return num_list\n",
        "\n",
        "def get_protected_characteristics():\n",
        "  characteristics_tuple = ('age','disability','gender reassignment','marriage and civil partnership','pregnancy and maternity','race','religion or belief','sex','sexual orientation')\n",
        "  return characteristics_tuple\n",
        "\n",
        "def get_protected_characteristic_list(protected_characteristics):\n",
        "  char_list = [choice(protected_characteristics) for ch in range(randint(1,5000))]\n",
        "  return char_list\n",
        "\n",
        "nums = get_num_list()\n",
        "protected_characteristics = get_protected_characteristics()\n",
        "characteristics = get_protected_characteristic_list(protected_characteristics)"
      ]
    },
    {
      "cell_type": "markdown",
      "metadata": {
        "id": "HS8pOqUydNtl"
      },
      "source": [
        "## The exercises below will use the lists:  \n",
        "*   **nums** (a list of between 1 and 1000 random numbers, each number is between 0 and 1000)\n",
        "*   **characteristics** (a list of 5000 random protected_characteristics)\n",
        "\n",
        "and the tuple:\n",
        "*  **protected_characteristics** (a set of the 9 protected characteristics identified in the Equality Act)\n",
        "\n",
        "## You can run the cell above any number of times to generate new lists."
      ]
    },
    {
      "cell_type": "markdown",
      "metadata": {
        "id": "nkyY_SHBdPGi"
      },
      "source": [
        "---\n",
        "### Exercise 1 - list head, tail and shape\n",
        "\n",
        "Write a function, **describe_list()** which will:\n",
        "*  print the length of the list `nums`\n",
        "*  print the first 10 items in `nums`  \n",
        "*  print the last 5 items in `nums`"
      ]
    },
    {
      "cell_type": "markdown",
      "metadata": {
        "id": "eDMYL9W_dQ4S"
      },
      "source": [
        "---\n",
        "### Exercise 2 - show tuple items\n",
        "\n",
        "Write a function which will:\n",
        "*   use a loop to print the list of protected characteristics from the `protected_characteristics` tuple.\n"
      ]
    },
    {
      "cell_type": "code",
      "execution_count": null,
      "metadata": {
        "id": "owrfFpuqdRc8",
        "colab": {
          "base_uri": "https://localhost:8080/"
        },
        "outputId": "ff6a70ea-e7f5-4a10-8b8c-8cff486d1e3c"
      },
      "outputs": [
        {
          "output_type": "stream",
          "name": "stdout",
          "text": [
            "Length of the list nums: 1000\n",
            "First 10 items in nums: [95, 41, 44, 18, 18, 80, 27, 86, 2, 52]\n",
            "Last 5 items in nums: [81, 13, 50, 95, 78]\n"
          ]
        }
      ],
      "source": [
        "from random import randint\n",
        "\n",
        "def describe_list():\n",
        "\n",
        "    nums = [randint(1, 100) for n in range(1000)]\n",
        "\n",
        "    print(\"Length of the list nums:\", len(nums))\n",
        "    print(\"First 10 items in nums:\", nums[:10])\n",
        "    print(\"Last 5 items in nums:\", nums[-5:])\n",
        "\n",
        "describe_list()\n"
      ]
    },
    {
      "cell_type": "markdown",
      "metadata": {
        "id": "zPFZlkdSdSRf"
      },
      "source": [
        "---\n",
        "### Exercise 3 - list a random subset\n",
        "\n",
        "Write a function which will:\n",
        "*  calculate the position of the middle item in the `characteristics` list   \n",
        "(*Hint: use len() to help with this*)\n",
        "*  calculate the position of the item that is 5 places before the middle item\n",
        "*  calculate the position of the item that is 5 places after the middle item\n",
        "*  print the part of the list that includes the items from 5 places before to 5 places after.  \n",
        "\n",
        "Expected output:  \n",
        "Your list will include 11 items."
      ]
    },
    {
      "cell_type": "code",
      "execution_count": null,
      "metadata": {
        "id": "FN_0wbpPdSsU",
        "colab": {
          "base_uri": "https://localhost:8080/"
        },
        "outputId": "8af8c6e4-4b47-45a8-93bf-fd6275369728"
      },
      "outputs": [
        {
          "output_type": "stream",
          "name": "stdout",
          "text": [
            "Subset of the list: ['race', 'sex', 'gender reassignment', 'marriage and civil partnership', 'race', 'religion or belief', 'religion or belief', 'marriage and civil partnership', 'marriage and civil partnership', 'pregnancy and maternity', 'marriage and civil partnership']\n",
            "Your list will include 11 items.\n"
          ]
        }
      ],
      "source": [
        "from random import randint, choice\n",
        "\n",
        "def get_protected_characteristics():\n",
        "    characteristics_tuple = ('age', 'disability', 'gender reassignment', 'marriage and civil partnership', 'pregnancy and maternity', 'race', 'religion or belief', 'sex', 'sexual orientation')\n",
        "    return characteristics_tuple\n",
        "\n",
        "def get_protected_characteristic_list(protected_characteristics):\n",
        "    char_list = [choice(protected_characteristics) for ch in range(randint(1, 5000))]\n",
        "    return char_list\n",
        "\n",
        "\n",
        "protected_characteristics = get_protected_characteristics()\n",
        "characteristics = get_protected_characteristic_list(protected_characteristics)\n",
        "\n",
        "def list_random_subset(characteristics):\n",
        "\n",
        "    middle_position = len(characteristics) // 2\n",
        "    before_middle = middle_position - 5\n",
        "    after_middle = middle_position + 5\n",
        "    subset = characteristics[before_middle:after_middle + 1]\n",
        "\n",
        "    print(\"Subset of the list:\", subset)\n",
        "    print(\"Your list will include\", len(subset), \"items.\")\n",
        "\n",
        "\n",
        "list_random_subset(characteristics)\n",
        "\n"
      ]
    },
    {
      "cell_type": "markdown",
      "metadata": {
        "id": "3O63UD_LdT4X"
      },
      "source": [
        "---\n",
        "### Exercise 4 - create a copy\n",
        "\n",
        "Write a function which will: use a for loop to create a copy of the `nums` list:\n",
        "\n",
        "*   create a new, empty, list called **new_nums**  (*Hint: an empty list is [ ]*)\n",
        "*   use a for loop which uses the following syntax:  `for num in nums:`\n",
        "*   each time round the loop append `num` to `new_nums`  ( *`new_nums.append(num)`*)\n",
        "*   print the first 10 items of `new_nums`\n",
        "*   print the first 10 items of `nums`\n",
        "*   print the length of both lists"
      ]
    },
    {
      "cell_type": "code",
      "execution_count": null,
      "metadata": {
        "id": "WldCmXYbdUX4",
        "colab": {
          "base_uri": "https://localhost:8080/"
        },
        "outputId": "3eb0712b-8328-4008-8fdf-07b23490305b"
      },
      "outputs": [
        {
          "output_type": "stream",
          "name": "stdout",
          "text": [
            "First 10 items of new_nums: [96, 53, 8, 12, 33, 82, 41, 31, 72, 90]\n",
            "First 10 items of nums: [96, 53, 8, 12, 33, 82, 41, 31, 72, 90]\n",
            "Length of new_nums: 1000\n",
            "Length of nums: 1000\n"
          ]
        }
      ],
      "source": [
        "from random import randint\n",
        "\n",
        "def create_copy():\n",
        "\n",
        "    nums = [randint(1, 100) for n in range(1000)]\n",
        "    new_nums = []\n",
        "\n",
        "    for num in nums:\n",
        "        new_nums.append(num)\n",
        "\n",
        "    print(\"First 10 items of new_nums:\", new_nums[:10])\n",
        "    print(\"First 10 items of nums:\", nums[:10])\n",
        "    print(\"Length of new_nums:\", len(new_nums))\n",
        "    print(\"Length of nums:\", len(nums))\n",
        "\n",
        "create_copy()\n"
      ]
    },
    {
      "cell_type": "markdown",
      "metadata": {
        "id": "CREQbs7-dXRq"
      },
      "source": [
        "\n",
        "\n",
        "```\n",
        "# This is formatted as code\n",
        "```\n",
        "\n",
        "---\n",
        "### Exercise 5 - count the occurrence of age in characteristics\n",
        "\n",
        "Write a function which will use the list method:\n",
        "\n",
        "`num_items = list_name.count(item)`\n",
        "\n",
        "to count the number of occurrences of 'age' in the `characteristics` list.  Print the result."
      ]
    },
    {
      "cell_type": "code",
      "execution_count": null,
      "metadata": {
        "id": "8ADjU2-ddX0S",
        "colab": {
          "base_uri": "https://localhost:8080/"
        },
        "outputId": "a76fa12e-3ae4-49de-ae52-4962dc299af5"
      },
      "outputs": [
        {
          "output_type": "stream",
          "name": "stdout",
          "text": [
            "Number of occurrences of 'age' in characteristics: 272\n"
          ]
        }
      ],
      "source": [
        "def count_age_in_characteristics(characteristics):\n",
        "\n",
        "    num_items = characteristics.count('age')\n",
        "\n",
        "    print(\"Number of occurrences of 'age' in characteristics:\", num_items)\n",
        "\n",
        "count_age_in_characteristics(characteristics)\n"
      ]
    },
    {
      "cell_type": "markdown",
      "metadata": {
        "id": "_eZfQ9pSdZFa"
      },
      "source": [
        "---\n",
        "### Exercise 6 - sort the nums list\n",
        "\n",
        "Write a function which will:\n",
        "*   call the function `get_num_list()` and store the result in a new list called **sort_nums**\n",
        "*   print the first, and last, 20 items in the `sort_nums` list\n",
        "*   use the `list_name.sort()` method to sort the `sort_nums` list into ascending order\n",
        "*   print the first, and last, 20 items again  \n",
        "*   use the `list_name.sort()` method again to sort the `sort_nums` list into descending order\n",
        "*   print the first, and last, 20 items again"
      ]
    },
    {
      "cell_type": "code",
      "execution_count": null,
      "metadata": {
        "id": "7JyMh6MpdZjm",
        "colab": {
          "base_uri": "https://localhost:8080/"
        },
        "outputId": "afebc0b4-38be-4ebb-b3b9-6711fb3291e9"
      },
      "outputs": [
        {
          "output_type": "stream",
          "name": "stdout",
          "text": [
            "First 20 items in sort_nums (before sorting): [67, 92, 56, 8, 65, 37, 70, 66, 42, 53, 83, 100, 25, 54, 58, 40, 71, 43, 100, 100]\n",
            "Last 20 items in sort_nums (before sorting): [97, 93, 72, 58, 39, 98, 11, 26, 52, 100, 45, 91, 15, 97, 1, 45, 39, 30, 64, 31]\n",
            "First 20 items in sort_nums (ascending order): [1, 1, 1, 1, 1, 1, 1, 1, 1, 1, 2, 2, 2, 2, 2, 2, 2, 2, 2, 3]\n",
            "Last 20 items in sort_nums (ascending order): [99, 99, 99, 99, 99, 99, 99, 100, 100, 100, 100, 100, 100, 100, 100, 100, 100, 100, 100, 100]\n",
            "First 20 items in sort_nums (descending order): [100, 100, 100, 100, 100, 100, 100, 100, 100, 100, 100, 100, 100, 99, 99, 99, 99, 99, 99, 99]\n",
            "Last 20 items in sort_nums (descending order): [3, 2, 2, 2, 2, 2, 2, 2, 2, 2, 1, 1, 1, 1, 1, 1, 1, 1, 1, 1]\n"
          ]
        }
      ],
      "source": [
        "from random import randint\n",
        "\n",
        "def get_num_list():\n",
        "\n",
        "    num_list = [randint(1, 100) for n in range(1000)]\n",
        "    return num_list\n",
        "\n",
        "def sort_nums_list():\n",
        "\n",
        "    sort_nums = get_num_list()\n",
        "    print(\"First 20 items in sort_nums (before sorting):\", sort_nums[:20])\n",
        "    print(\"Last 20 items in sort_nums (before sorting):\", sort_nums[-20:])\n",
        "\n",
        "    sort_nums.sort()\n",
        "\n",
        "    print(\"First 20 items in sort_nums (ascending order):\", sort_nums[:20])\n",
        "    print(\"Last 20 items in sort_nums (ascending order):\", sort_nums[-20:])\n",
        "\n",
        "    sort_nums.sort(reverse=True)\n",
        "\n",
        "    print(\"First 20 items in sort_nums (descending order):\", sort_nums[:20])\n",
        "    print(\"Last 20 items in sort_nums (descending order):\", sort_nums[-20:])\n",
        "\n",
        "\n",
        "sort_nums_list()\n"
      ]
    },
    {
      "cell_type": "markdown",
      "metadata": {
        "id": "NmAMPVqada0W"
      },
      "source": [
        "---\n",
        "### Exercise 7 - get statistics (max(), min(), sum() )\n",
        "\n",
        "Write a function which will:\n",
        "*   print the maximum and minimum numbers in the `nums` list  \n",
        "*   print the sum of the `nums` list\n",
        "*   calculate and print the average of the `nums` list (using `len()` to help)"
      ]
    },
    {
      "cell_type": "code",
      "execution_count": null,
      "metadata": {
        "id": "h7lH7x-3dbcC",
        "colab": {
          "base_uri": "https://localhost:8080/"
        },
        "outputId": "e651d4cf-4940-4983-8976-45c1e84c4ac6"
      },
      "outputs": [
        {
          "output_type": "stream",
          "name": "stdout",
          "text": [
            "Maximum number in nums: 100\n",
            "Minimum number in nums: 1\n",
            "Sum of nums: 49473\n",
            "Average of nums: 49.473\n"
          ]
        }
      ],
      "source": [
        "from random import randint\n",
        "\n",
        "def get_num_list():\n",
        "    num_list = [randint(1, 100) for n in range(1000)]\n",
        "    return num_list\n",
        "\n",
        "def analyze_nums_list(nums):\n",
        "\n",
        "    max_num = max(nums)\n",
        "    min_num = min(nums)\n",
        "    print(\"Maximum number in nums:\", max_num)\n",
        "    print(\"Minimum number in nums:\", min_num)\n",
        "\n",
        "\n",
        "    sum_nums = sum(nums)\n",
        "    print(\"Sum of nums:\", sum_nums)\n",
        "\n",
        "\n",
        "    average = sum_nums / len(nums)\n",
        "    print(\"Average of nums:\", average)\n",
        "\n",
        "\n",
        "nums = get_num_list()\n",
        "\n",
        "analyze_nums_list(nums)\n",
        "\n"
      ]
    },
    {
      "cell_type": "markdown",
      "metadata": {
        "id": "SBxi9jgqdckp"
      },
      "source": [
        "---\n",
        "### Exercise 8 - percentage difference\n",
        "\n",
        "Write a function which will:\n",
        "*   generate a new list called **ex8_nums** using `get_num_list()`\n",
        "*   calculate and print the percentage difference between the first number in each list (as a percentage of the number in the nums list) (Hint:  find the difference between the two numbers, divide the difference by the number in `nums` and multiply by 100)\n",
        "*   calculate and print the percentage difference between the last numbers in each list in the same way\n",
        "*   calculate and print the percentage difference between the middle numbers in each list in the same way.\n",
        "*   calculate and print the percentage difference between the sums of each list in the same way"
      ]
    },
    {
      "cell_type": "code",
      "execution_count": null,
      "metadata": {
        "id": "gJ0YWNn6ddYZ",
        "colab": {
          "base_uri": "https://localhost:8080/"
        },
        "outputId": "f7fc547a-d3a8-482a-c51d-a9b127b0844a"
      },
      "outputs": [
        {
          "output_type": "stream",
          "name": "stdout",
          "text": [
            "Percentage difference between the first numbers: 773 %\n",
            "Percentage difference between the last numbers: -57 %\n",
            "Percentage difference between the middle numbers: 4600 %\n",
            "Percentage difference between the sums:  -1 %\n"
          ]
        }
      ],
      "source": [
        "from random import randint\n",
        "\n",
        "def get_num_list():\n",
        "    num_list = [randint(1, 100) for n in range(1000)]\n",
        "    return num_list\n",
        "\n",
        "def percentage_difference():\n",
        "    ex8_nums = get_num_list()\n",
        "\n",
        "    first_num_difference = ((ex8_nums[0] - nums[0])) / nums[0] * 100\n",
        "    print(\"Percentage difference between the first numbers:\", round(first_num_difference), \"%\")\n",
        "\n",
        "    last_num_difference = ((ex8_nums[-1] - nums[-1])) / nums[-1] * 100\n",
        "    print(\"Percentage difference between the last numbers:\", round(last_num_difference), \"%\")\n",
        "\n",
        "    middle_position = len(nums) // 2\n",
        "\n",
        "    middle_num_difference = ((ex8_nums[middle_position] - nums[middle_position]) / nums[middle_position]) * 100\n",
        "    print(\"Percentage difference between the middle numbers:\", round(middle_num_difference), \"%\")\n",
        "\n",
        "    sum_difference = ((sum(ex8_nums) - sum(nums)) / sum(nums)) * 100\n",
        "    print(\"Percentage difference between the sums: \", round(sum_difference), \"%\")\n",
        "\n",
        "percentage_difference()"
      ]
    },
    {
      "cell_type": "code",
      "execution_count": null,
      "metadata": {
        "id": "oD_GKiJYifPf"
      },
      "outputs": [],
      "source": []
    },
    {
      "cell_type": "markdown",
      "metadata": {
        "id": "ccV3tNxcdeU5"
      },
      "source": [
        "---\n",
        "### Exercise 9 - characteristic counts\n",
        "\n",
        "Write a function which will:\n",
        "*  iterate through the `protected_characteristics` tuple and for each **characteristic**:\n",
        "*   *   count the number of occurrences of that `characteristic` in the `characteristics` list\n",
        "*   *   print the `protected_characteristic` and the **count**  \n",
        "\n",
        "Example expected output:\n",
        "\n",
        "age 100  \n",
        "disability 120  \n",
        "gender reassignment 120  \n",
        "marriage and civil partnership 111  \n",
        "pregnancy and maternity 103  \n",
        "race 106  \n",
        "religion or belief 95  \n",
        "sex 110  \n",
        "sexual orientation 113  \n",
        "\n",
        "Extra learning:  you can read [here](https://thispointer.com/python-how-to-pad-strings-with-zero-space-or-some-other-character/) how to justify the printed characteristic so that the output is organised into two columns as shown below:  \n",
        "![tabulated output](https://drive.google.com/uc?id=1CCXfX6K5ZeDefnq7vUsqxCDmqvcfY8Mz)\n",
        "\n",
        "\n",
        "\n"
      ]
    },
    {
      "cell_type": "code",
      "execution_count": null,
      "metadata": {
        "id": "T8r6wDzmde0c",
        "colab": {
          "base_uri": "https://localhost:8080/"
        },
        "outputId": "065e24ef-048c-40d6-c142-7067d23c5304"
      },
      "outputs": [
        {
          "output_type": "stream",
          "name": "stdout",
          "text": [
            "Protected chararcteristic        Frequency\n",
            "\n",
            "age                                    517\n",
            "disability                             448\n",
            "gender reassignment                    465\n",
            "marriage and civil partnership         498\n",
            "pregnancy and maternity                501\n",
            "race                                   479\n",
            "religion or belief                     455\n",
            "sex                                    447\n",
            "sexual orientation                     483\n"
          ]
        }
      ],
      "source": [
        "def characteristic_counts():\n",
        "    print(\"Protected chararcteristic\".ljust(32), \"Frequency\")\n",
        "    print()\n",
        "\n",
        "    for characteristic in protected_characteristics:\n",
        "        count = characteristics.count(characteristic)\n",
        "        print(characteristic.ljust(32), str(count).rjust(9))\n",
        "\n",
        "\n",
        "characteristic_counts()\n"
      ]
    },
    {
      "cell_type": "markdown",
      "metadata": {
        "id": "jb0xfOMRdpnC"
      },
      "source": [
        "---\n",
        "### Exercise 10 - characteristics statistics\n",
        "\n",
        "Assuming that the `characteristics` list may have been taken from a study of cases that have been taken to court in relation to the Equality Act.  \n",
        "\n",
        "Write a function which will:\n",
        "\n",
        "*   find the most common characteristic resulting in court action, from this population\n",
        "*   print this in a message, e.g. The characteristic with the highest number of court cases is:  *characteristic*\n",
        "*   print the list of `protected_characteristics`, on one line if possible - see [here](https://www.geeksforgeeks.org/g-fact-25-print-single-multiple-variable-python/)\n",
        "*   ask the user to enter a characteristic that they would like to see statistics on and use a while loop to continue until the user has entered a valid characteristic\n",
        "*   print the characteristic, its frequency and the percentage that this frequency is of the whole population."
      ]
    },
    {
      "cell_type": "code",
      "execution_count": null,
      "metadata": {
        "id": "HQ0nWZhLdqI2",
        "colab": {
          "base_uri": "https://localhost:8080/"
        },
        "outputId": "08dc7ed0-612c-444e-a256-b447c7dd9bc8"
      },
      "outputs": [
        {
          "output_type": "stream",
          "name": "stdout",
          "text": [
            "The characteristic with the highest number of court cases is: sexual orientation\n",
            "List of protected characteristics: age, disability, gender reassignment, marriage and civil partnership, pregnancy and maternity, race, religion or belief, sex, sexual orientation\n",
            "Enter a characteristic to see statistics (case-insensitive): ghg\n",
            "Invalid characteristic. Please enter a valid one.\n",
            "Enter a characteristic to see statistics (case-insensitive): age\n",
            "Characteristic: age\n",
            "Frequency: 176\n",
            "Percentage of the whole population: 11.23%\n"
          ]
        }
      ],
      "source": [
        "from random import randint, choice\n",
        "\n",
        "def get_num_list():\n",
        "    num_list = [randint(1, 100) for n in range(1000)]\n",
        "    return num_list\n",
        "\n",
        "def get_protected_characteristics():\n",
        "    characteristics_tuple = ('age', 'disability', 'gender reassignment', 'marriage and civil partnership', 'pregnancy and maternity', 'race', 'religion or belief', 'sex', 'sexual orientation')\n",
        "    return characteristics_tuple\n",
        "\n",
        "def get_protected_characteristic_list(protected_characteristics):\n",
        "    char_list = [choice(protected_characteristics) for ch in range(randint(1, 5000))]\n",
        "    return char_list\n",
        "\n",
        "def characteristics_statistics():\n",
        "\n",
        "    nums = get_num_list()\n",
        "    protected_characteristics = get_protected_characteristics()\n",
        "    characteristics = get_protected_characteristic_list(protected_characteristics)\n",
        "\n",
        "\n",
        "    most_common_characteristic = max(set(characteristics), key=characteristics.count)\n",
        "\n",
        "\n",
        "    print(\"The characteristic with the highest number of court cases is:\", most_common_characteristic)\n",
        "\n",
        "\n",
        "    print(\"List of protected characteristics:\", ', '.join(protected_characteristics))\n",
        "\n",
        "\n",
        "    while True:\n",
        "        user_characteristic = input(\"Enter a characteristic to see statistics (case-insensitive): \").strip().lower()\n",
        "\n",
        "\n",
        "        if user_characteristic in protected_characteristics:\n",
        "            break\n",
        "        else:\n",
        "            print(\"Invalid characteristic. Please enter a valid one.\")\n",
        "\n",
        "\n",
        "    user_characteristic_count = characteristics.count(user_characteristic)\n",
        "\n",
        "\n",
        "    percentage = (user_characteristic_count / len(characteristics)) * 100\n",
        "\n",
        "\n",
        "    print(\"Characteristic:\", user_characteristic)\n",
        "    print(\"Frequency:\", user_characteristic_count)\n",
        "    print(\"Percentage of the whole population: \" + str(round(percentage, 2)) + \"%\")\n",
        "\n",
        "\n",
        "characteristics_statistics()\n",
        "\n",
        "\n",
        "\n"
      ]
    }
  ],
  "metadata": {
    "colab": {
      "provenance": [],
      "include_colab_link": true
    },
    "kernelspec": {
      "display_name": "Python 3",
      "name": "python3"
    },
    "language_info": {
      "name": "python"
    }
  },
  "nbformat": 4,
  "nbformat_minor": 0
}