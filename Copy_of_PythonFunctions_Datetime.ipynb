{
  "cells": [
    {
      "cell_type": "markdown",
      "metadata": {
        "id": "view-in-github",
        "colab_type": "text"
      },
      "source": [
        "<a href=\"https://colab.research.google.com/github/Cassidyevelyn/python_with_data/blob/main/Copy_of_PythonFunctions_Datetime.ipynb\" target=\"_parent\"><img src=\"https://colab.research.google.com/assets/colab-badge.svg\" alt=\"Open In Colab\"/></a>"
      ]
    },
    {
      "cell_type": "markdown",
      "metadata": {
        "id": "Vvcpt-18AqVE"
      },
      "source": [
        "<a href=\"https://colab.research.google.com/github/StefanMeyer7/Python-Fundamentals/blob/main/PythonFunctions_Datetime.ipynb\" target=\"_parent\"><img src=\"https://colab.research.google.com/assets/colab-badge.svg\" alt=\"Open In Colab\"/></a>"
      ]
    },
    {
      "cell_type": "markdown",
      "metadata": {
        "id": "nP_edUEZceHu"
      },
      "source": [
        "# User-defined functions using datetime library\n",
        "\n",
        "---\n"
      ]
    },
    {
      "cell_type": "markdown",
      "metadata": {
        "id": "GDXBwTsRceya"
      },
      "source": [
        "When working with dates and times, fairly common in data sets, we need to be able to extract certain bits of information.  \n",
        "\n",
        "In Python, as with other languages, dates and times are stored in a data structure that combines the two together and stores the information as a number of seconds since a start point (often 1st January 1900).  This is obviously a large number but every bit of information about a date can be extracted from it and used to give a wide range of information.  \n",
        "\n",
        "Have a go at the exercises below to use a selection of datetime functions and return a new bit of data from each, to be printed by the caller.\n",
        "\n",
        "Before you can use datetime functions you will need to import them. Import the datetime functions like this:\n",
        "\n",
        "`from datetime import datetime`  \n",
        "\n",
        "\n",
        "For more information about datetime functions visit [w3Schools-Python datetime](https://www.w3schools.com/python/python_datetime.asp) and [Python docs](https://docs.python.org/3/library/datetime.html)"
      ]
    },
    {
      "cell_type": "markdown",
      "metadata": {
        "id": "rzT7PoS9cgpc"
      },
      "source": [
        "---\n",
        "### Exercise 1 - print current date and time\n",
        "\n",
        "Write a function that will return the date and time now.  The caller will print it.  \n",
        "\n",
        "*Hint:  the format has been added for you, the other exercises will follow a similar format.   Always remember to import datetime from datetime as shown below*"
      ]
    },
    {
      "cell_type": "code",
      "execution_count": 1,
      "metadata": {
        "id": "pbPPKT1DciHO",
        "outputId": "5f497350-53bc-461f-af42-ae9691b6071d",
        "colab": {
          "base_uri": "https://localhost:8080/"
        }
      },
      "outputs": [
        {
          "output_type": "stream",
          "name": "stdout",
          "text": [
            "2023-09-05 08:44:55.774078+00:00\n"
          ]
        }
      ],
      "source": [
        "from datetime import datetime, timezone\n",
        "# add your function, called get_datetime_now() below here\n",
        "\n",
        "def get_datetime_now():\n",
        "\n",
        "    now = datetime.now(timezone.utc)\n",
        "    return now\n",
        "\n",
        "\n",
        "now_date_time = get_datetime_now()\n",
        "print(now_date_time)"
      ]
    },
    {
      "cell_type": "markdown",
      "metadata": {
        "id": "-Ep29Zcqcj2J"
      },
      "source": [
        "---\n",
        "Exercise 2 - print the current year\n",
        "\n",
        "Write a function that will return the current year.  The caller will print the year."
      ]
    },
    {
      "cell_type": "code",
      "execution_count": null,
      "metadata": {
        "id": "mvG4Fc4GcklO",
        "colab": {
          "base_uri": "https://localhost:8080/"
        },
        "outputId": "0762cb14-b191-4927-9114-1d45c71cea95"
      },
      "outputs": [
        {
          "output_type": "stream",
          "name": "stdout",
          "text": [
            "2023\n"
          ]
        }
      ],
      "source": [
        "from datetime import datetime\n",
        "\n",
        "def get_current_year():\n",
        "\n",
        "    current_year = datetime.now().year\n",
        "    return current_year\n",
        "\n",
        "\n",
        "year = get_current_year()\n",
        "print(year)\n"
      ]
    },
    {
      "cell_type": "markdown",
      "metadata": {
        "id": "AVu3ZVE3cljj"
      },
      "source": [
        "---\n",
        "### Exercise 3 - print the current day of the week\n",
        "\n",
        "Write a function that will return the current day of the week.  The caller will print it."
      ]
    },
    {
      "cell_type": "code",
      "execution_count": 2,
      "metadata": {
        "id": "YGdApxsLcmSS",
        "colab": {
          "base_uri": "https://localhost:8080/"
        },
        "outputId": "834797f2-c1dc-4542-ed42-2ae18538f64f"
      },
      "outputs": [
        {
          "output_type": "stream",
          "name": "stdout",
          "text": [
            "Tuesday\n"
          ]
        }
      ],
      "source": [
        "from datetime import datetime\n",
        "\n",
        "def get_current_day_of_week():\n",
        "\n",
        "    days_of_week = [\"Monday\", \"Tuesday\", \"Wednesday\", \"Thursday\", \"Friday\", \"Saturday\", \"Sunday\"]\n",
        "    current_day = datetime.now().weekday()\n",
        "    current_day_of_week = days_of_week[current_day]\n",
        "    return current_day_of_week\n",
        "\n",
        "\n",
        "day_of_week = get_current_day_of_week()\n",
        "print(day_of_week)\n"
      ]
    },
    {
      "cell_type": "markdown",
      "metadata": {
        "id": "PkkISgZscnZ3"
      },
      "source": [
        "---\n",
        "### Exercise 4 - create a new date\n",
        "\n",
        "Write a function that will take 3 parameters, day, month, year (3 numbers that make a valid date) and will create, and return a new date.  The caller will print the date."
      ]
    },
    {
      "cell_type": "code",
      "execution_count": 12,
      "metadata": {
        "id": "7XXYuEhDcnz7",
        "colab": {
          "base_uri": "https://localhost:8080/"
        },
        "outputId": "b1268f29-29fd-4ea1-e51d-47f9bbaeead3"
      },
      "outputs": [
        {
          "output_type": "stream",
          "name": "stdout",
          "text": [
            "Year: 2023\n",
            "Month: 8\n",
            "Day: 15\n"
          ]
        }
      ],
      "source": [
        "from datetime import datetime\n",
        "\n",
        "def create_date(day, month, year):\n",
        "    try:\n",
        "\n",
        "        new_date = datetime(year, month, day)\n",
        "        return new_date\n",
        "    except ValueError:\n",
        "        return None\n",
        "\n",
        "\n",
        "day = 15\n",
        "month = 8\n",
        "year = 2023\n",
        "\n",
        "new_date = create_date(day, month, year)\n",
        "\n",
        "if new_date is not None:\n",
        "    print(\"Year:\", new_date.year)\n",
        "    print(\"Month:\", new_date.month)\n",
        "    print(\"Day:\", new_date.day)\n",
        "else:\n",
        "    print(\"Invalid date input.\")\n",
        "\n",
        "\n"
      ]
    },
    {
      "cell_type": "markdown",
      "metadata": {
        "id": "LGb976a3coqq"
      },
      "source": [
        "---\n",
        "### Exercise 5 - create a valid date\n",
        "\n",
        "Write a function that will take 3 parameters, day, month, year (3 numbers) and will:  \n",
        "*   check that the month is between 1 and 12  \n",
        "*   check that the day is valid for the month (e.g. if the month is 2, then the day must be between 1 and 28 (don't worry about leap years for the moment)  \n",
        "*   if the date is not valid, print an error message and return None (which the caller will print)  \n",
        "*   if the date is valid, store it in a new variable, return the variable and the caller will print it."
      ]
    },
    {
      "cell_type": "code",
      "execution_count": 11,
      "metadata": {
        "id": "63Z80bSocpFc",
        "colab": {
          "base_uri": "https://localhost:8080/"
        },
        "outputId": "a0209471-bc83-4f06-9f67-c7d545b4b28f"
      },
      "outputs": [
        {
          "output_type": "stream",
          "name": "stdout",
          "text": [
            "Valid date: Year 2023 Month 8 Day 15\n"
          ]
        }
      ],
      "source": [
        "def create_valid_date(day, month, year):\n",
        "\n",
        "    if month < 1 or month > 12:\n",
        "      print(\"Invalid month!\")\n",
        "      return None\n",
        "\n",
        "    max_days = [31, 28, 31, 30, 31, 30, 31, 31, 30, 31, 30, 31]\n",
        "\n",
        "    if day < 1 or day > max_days[month - 1]:\n",
        "      print(\"Invalid day for he given month!\")\n",
        "      return None\n",
        "\n",
        "    return year, month, day\n",
        "\n",
        "day = 15\n",
        "month = 8\n",
        "year = 2023\n",
        "\n",
        "valid_date = create_valid_date(day, month, year)\n",
        "\n",
        "if valid_date is not None:\n",
        "  year, month, day = valid_date\n",
        "  print(\"Valid date: Year\", year, \"Month\", month, \"Day\", day)\n",
        "else:\n",
        "  print(\"Invalid date input.\")\n"
      ]
    },
    {
      "cell_type": "markdown",
      "metadata": {
        "id": "R5ZBHZXScqYQ"
      },
      "source": [
        "---\n",
        "### Exercise 6 - is it a leap year?\n",
        "\n",
        "Write a function that will take a date as a parameter (you will need to create the date variable before calling the function) and will determine if it is a leap year, returning True or False.\n",
        "\n",
        "*Hint:  a leap year is a year that is divisible by 4 but the centuries (1900, 2000, etc are only leap years if they are divisible by 400)*"
      ]
    },
    {
      "cell_type": "code",
      "execution_count": 10,
      "metadata": {
        "id": "pj8Y8PAqcq4u",
        "colab": {
          "base_uri": "https://localhost:8080/"
        },
        "outputId": "1d62ce7e-82ac-4834-9e04-4ef379c23069"
      },
      "outputs": [
        {
          "output_type": "stream",
          "name": "stdout",
          "text": [
            "Is 2024 a leap year? True\n"
          ]
        }
      ],
      "source": [
        "from datetime import datetime\n",
        "def is_leap_year(year):\n",
        "\n",
        "    if year % 4 == 0:\n",
        "        # If it's a century year, check if it's divisible by 400\n",
        "        if year % 100 == 0:\n",
        "            return year % 400 == 0\n",
        "        else:\n",
        "            return True\n",
        "    else:\n",
        "        return False\n",
        "\n",
        "\n",
        "year = 2024\n",
        "result = is_leap_year(year)\n",
        "print(f\"Is {year} a leap year? {result}\")\n"
      ]
    },
    {
      "cell_type": "markdown",
      "metadata": {
        "id": "7SIry7OwcuMS"
      },
      "source": [
        "---\n",
        "### Exercise 7 - display parts of date/time\n",
        "\n",
        "Write a function that will take a date and print from it the following:  \n",
        "*  given date and time  \n",
        "*  year (in full)\n",
        "*  month (as a number)\n",
        "*  month name\n",
        "*  week number of the year  \n",
        "*  weekday of the week (as a number)  \n",
        "*  day of year  \n",
        "*  day of the month  \n",
        "*  day of week (as a name)  \n",
        "\n",
        "*Hint:  see w3Schools for [strftime reference](https://www.w3schools.com/python/python_datetime.asp)*\n",
        "\n"
      ]
    },
    {
      "cell_type": "code",
      "execution_count": 4,
      "metadata": {
        "id": "iKsefU9ncuzl",
        "colab": {
          "base_uri": "https://localhost:8080/"
        },
        "outputId": "b7508637-5b57-4949-dddd-32756d856d09"
      },
      "outputs": [
        {
          "output_type": "stream",
          "name": "stdout",
          "text": [
            "Given Date and Time: 2023-08-15 00:00:00\n",
            "Year (Full): 2023\n",
            "Month (Number): 8\n",
            "Month (Name): August\n",
            "Week Number of the Year: 33\n",
            "Weekday of the Week (Number): 1\n",
            "Day of Year: 227\n",
            "Day of the Month: 15\n",
            "Day of Week (Name): Tuesday\n"
          ]
        }
      ],
      "source": [
        "from datetime import datetime\n",
        "\n",
        "def print_date_info(input_date):\n",
        "\n",
        "    date_obj = datetime.strptime(input_date, \"%Y-%m-%d\")\n",
        "\n",
        "\n",
        "    print(\"Given Date and Time:\", date_obj)\n",
        "    print(\"Year (Full):\", date_obj.year)\n",
        "    print(\"Month (Number):\", date_obj.month)\n",
        "    print(\"Month (Name):\", date_obj.strftime(\"%B\"))\n",
        "    print(\"Week Number of the Year:\", date_obj.strftime(\"%U\"))\n",
        "    print(\"Weekday of the Week (Number):\", date_obj.weekday())\n",
        "    print(\"Day of Year:\", date_obj.strftime(\"%j\"))\n",
        "    print(\"Day of the Month:\", date_obj.day)\n",
        "    print(\"Day of Week (Name):\", date_obj.strftime(\"%A\"))\n",
        "\n",
        "\n",
        "date_to_print = \"2023-08-15\"\n",
        "\n",
        "print_date_info(date_to_print)\n"
      ]
    },
    {
      "cell_type": "markdown",
      "metadata": {
        "id": "fvDfw6C6cvwA"
      },
      "source": [
        "---\n",
        "### Exercise 8 - next 6 days\n",
        "\n",
        "Write a function that will take a date and generate the dates of the following 6 days.  It should print each of the 6 days in the form:  \n",
        "\n",
        "DAY OF THE WEEK, MONTH NAME, FULL YEAR\n",
        "\n",
        "Hint:  to generate the days, use the function datetime.timedelta(), there is a good example of its use [here](https://www.geeksforgeeks.org/python-datetime-timedelta-function/)  "
      ]
    },
    {
      "cell_type": "code",
      "execution_count": 3,
      "metadata": {
        "id": "qPrZzv7_cwJi",
        "colab": {
          "base_uri": "https://localhost:8080/"
        },
        "outputId": "67a13bd0-1257-4887-9f13-8153456afffa"
      },
      "outputs": [
        {
          "output_type": "stream",
          "name": "stdout",
          "text": [
            "Wednesday, August 16, 2023\n",
            "Thursday, August 17, 2023\n",
            "Friday, August 18, 2023\n",
            "Saturday, August 19, 2023\n",
            "Sunday, August 20, 2023\n",
            "Monday, August 21, 2023\n"
          ]
        }
      ],
      "source": [
        "from datetime import datetime, timedelta\n",
        "\n",
        "def generate_next_six_days(input_date):\n",
        "\n",
        "    date_obj = datetime.strptime(input_date, \"%Y-%m-%d\")\n",
        "\n",
        "\n",
        "    for _ in range(6):\n",
        "        date_obj += timedelta(days=1)\n",
        "        formatted_date = date_obj.strftime(\"%A, %B %d, %Y\")\n",
        "        print(formatted_date)\n",
        "\n",
        "\n",
        "date_to_start = \"2023-08-15\"\n",
        "\n",
        "generate_next_six_days(date_to_start)\n"
      ]
    }
  ],
  "metadata": {
    "colab": {
      "provenance": [],
      "include_colab_link": true
    },
    "kernelspec": {
      "display_name": "Python 3",
      "name": "python3"
    },
    "language_info": {
      "name": "python"
    }
  },
  "nbformat": 4,
  "nbformat_minor": 0
}