{
  "cells": [
    {
      "cell_type": "markdown",
      "metadata": {
        "id": "view-in-github",
        "colab_type": "text"
      },
      "source": [
        "<a href=\"https://colab.research.google.com/github/Cassidyevelyn/python_with_data/blob/main/Copy_of_PythonFunctions.ipynb\" target=\"_parent\"><img src=\"https://colab.research.google.com/assets/colab-badge.svg\" alt=\"Open In Colab\"/></a>"
      ]
    },
    {
      "cell_type": "markdown",
      "metadata": {
        "id": "Vvcpt-18AqVE"
      },
      "source": [
        "<a href=\"https://colab.research.google.com/github/StefanMeyer7/Python-Fundamentals/blob/main/PythonFunctions.ipynb\" target=\"_parent\"><img src=\"https://colab.research.google.com/assets/colab-badge.svg\" alt=\"Open In Colab\"/></a>"
      ]
    },
    {
      "cell_type": "markdown",
      "metadata": {
        "id": "sFf_RJVdUAd7"
      },
      "source": [
        "# Python functions\n",
        "\n",
        "---"
      ]
    },
    {
      "cell_type": "markdown",
      "metadata": {
        "id": "xBFk8HVPUCB2"
      },
      "source": [
        "You have already been using functions that are provided with Python  \n",
        "*  print()\n",
        "*  input()\n",
        "*  randint() *(from random)*\n",
        "\n",
        "You can tell that they are functions because they have brackets after the name. Often there is some data in the brackets (ie something that you want the function to use on this occasion)\n",
        "\n",
        "*  print(\"Hello\")\n",
        "*  input(\"What is your name? \")\n",
        "*  randint(1,6) *(from the random function library)*\n",
        "\n",
        "The data is called a *parameter* or an *argument*.  There can be any number of parameters passed to a function.  Order is important but can sometimes be overridden.\n",
        "\n",
        "Some functions just do something (e.g. print(\"Hello\") will just print the word Hello)..  \n",
        "\n",
        "Other functions produce some new data which you will assign to a variable:  \n",
        "```\n",
        "name = input(\"What is your name? \")  \n",
        "dice_roll = randint(1,6)\n",
        "```\n",
        "\n",
        "Each time you use a function's name in your program, or in another function, you are calling it and it will run.\n",
        "\n"
      ]
    },
    {
      "cell_type": "markdown",
      "metadata": {
        "id": "AIYd6YwxUDZD"
      },
      "source": [
        "---\n",
        "### Exercise 1 - len() of a string\n",
        "\n",
        "Write a function called **get_password()** which will get a password of 8 characters:  \n",
        "\n",
        "*  assign the value \"\" to a variable called **password**  \n",
        "*  start a while loop that will continue to loop while the length of `password` is not 8 characters    \n",
        "*  in the loop:  ask the user to enter a `password`\n",
        "*  after the loop, return the password to the calling program, which will print the valid password.  \n",
        "\n",
        "Test input:  \n",
        "abddgejkfjkl   \n",
        "999999999  \n",
        "ABCDEFH   \n",
        "\n",
        "Expected output:  \n",
        "ABCDEFGH  "
      ]
    },
    {
      "cell_type": "code",
      "execution_count": null,
      "metadata": {
        "id": "uZ7LBtQDUFxq",
        "colab": {
          "base_uri": "https://localhost:8080/"
        },
        "outputId": "244a9043-652e-4f00-81e6-79f58f641db1"
      },
      "outputs": [
        {
          "output_type": "stream",
          "name": "stdout",
          "text": [
            "Enter a password (8 characters): qwertyui\n",
            "Valid password: qwertyui\n"
          ]
        }
      ],
      "source": [
        "def get_password():\n",
        "    password = \"\"\n",
        "\n",
        "    while len(password) != 8:\n",
        "        password = input(\"Enter a password (8 characters): \")\n",
        "\n",
        "    return password\n",
        "\n",
        "\n",
        "valid_password = get_password()\n",
        "print(\"Valid password:\", valid_password)\n"
      ]
    },
    {
      "cell_type": "markdown",
      "metadata": {
        "id": "p_CkC4wNURFH"
      },
      "source": [
        "---\n",
        "### Exercise 2 - capitalise username\n",
        "\n",
        "Write a function called **get_username()** which will:  \n",
        "\n",
        "*  ask the user for a **username**  \n",
        "*  convert the `username` to upper case and assign the new value to a variable called **username_upper**   \n",
        "* if `username_upper` is \"ADMINUSER1\" then return \"Valid user\", otherwise return \"Invalid username\".  The calling program will print the message.  \n",
        "\n",
        "Test input:  \n",
        "admin\n",
        "\n",
        "Expected output:  \n",
        "Invalid username\n",
        "\n",
        "Test input:  \n",
        "AdminUser1\n",
        "\n",
        "Expected output:  \n",
        "Valid user  \n"
      ]
    },
    {
      "cell_type": "code",
      "execution_count": null,
      "metadata": {
        "id": "GwQ62wpDUS01",
        "colab": {
          "base_uri": "https://localhost:8080/"
        },
        "outputId": "7d471f8b-f120-42b9-8511-766151f94f18"
      },
      "outputs": [
        {
          "output_type": "stream",
          "name": "stdout",
          "text": [
            "Enter a username: adminuser1\n",
            "Valid user\n",
            "Enter a username: AdminUser1\n",
            "Valid user\n"
          ]
        }
      ],
      "source": [
        "def get_username():\n",
        "    username = input(\"Enter a username: \")\n",
        "    username_upper = username.upper()\n",
        "\n",
        "    if username_upper == \"ADMINUSER1\":\n",
        "        return \"Valid user\"\n",
        "    else:\n",
        "        return \"Invalid username\"\n",
        "\n",
        "\n",
        "result1 = get_username()\n",
        "print(result1)\n",
        "\n",
        "result2 = get_username()\n",
        "print(result2)\n"
      ]
    },
    {
      "cell_type": "markdown",
      "metadata": {
        "id": "dz5MgKXdUUMo"
      },
      "source": [
        "---\n",
        "### Exercise 3 - select correct message\n",
        "\n",
        "Write a function called **get_credentials()** which will:  \n",
        "\n",
        "*  ask the user for a **username**  \n",
        "*  ask the user for a **password**  \n",
        "*  return one of the following messages:\n",
        "*  *  \"Credentials accepted\"  \n",
        "*  *  \"Invalid user\"  \n",
        "*  *  \"Password too short\"  \n",
        "\n",
        "Note:  `username` must be \"AdminUser1\" and the password must be at least 8 characters.  The calling program will print the message.  \n",
        "\n",
        "Test input:  \n",
        "AdminUser1\n",
        "abc999def\n",
        "\n",
        "Expected output:  \n",
        "Credentials accepted\n",
        "\n",
        "Test input:  \n",
        "AdminUser1\n",
        "abc\n",
        "\n",
        "Expected output:  \n",
        "Password too short  \n",
        "\n",
        "Test input:  \n",
        "User1\n",
        "abc999def\n",
        "\n",
        "Expected output:  \n",
        "Invalid user  "
      ]
    },
    {
      "cell_type": "code",
      "execution_count": null,
      "metadata": {
        "id": "Ts6208g_UU9a",
        "colab": {
          "base_uri": "https://localhost:8080/"
        },
        "outputId": "d516ebf9-a3da-44c5-ba5f-4e745d057281"
      },
      "outputs": [
        {
          "output_type": "stream",
          "name": "stdout",
          "text": [
            "Enter your username: mano\n",
            "Enter your password: makdhsusb\n",
            "Invalid user\n",
            "Enter your username: AdminUser1\n",
            "Enter your password: abc999def\n",
            "Credentials accepted\n",
            "Enter your username: cncn\n",
            "Enter your password: cncn\n",
            "Invalid user\n"
          ]
        }
      ],
      "source": [
        "def get_credentials():\n",
        "    username = input(\"Enter your username: \")\n",
        "    password = input(\"Enter your password: \")\n",
        "\n",
        "    if username == \"AdminUser1\":\n",
        "        if len(password) >= 8:\n",
        "            return \"Credentials accepted\"\n",
        "        else:\n",
        "            return \"Password too short\"\n",
        "    else:\n",
        "        return \"Invalid user\"\n",
        "\n",
        "\n",
        "result1 = get_credentials()\n",
        "print(result1)\n",
        "\n",
        "result2 = get_credentials()\n",
        "print(result2)\n",
        "\n",
        "result3 = get_credentials()\n",
        "print(result3)\n"
      ]
    },
    {
      "cell_type": "markdown",
      "metadata": {
        "id": "X_--igvaUVwM"
      },
      "source": [
        "---\n",
        "### Exercise 4 - round to given dp\n",
        "\n",
        "Write a function called **get_rounded_float()** which will:  \n",
        "\n",
        "*  ask the user for a decimal **number**  \n",
        "*  ask the user for a number of **places** to round to  \n",
        "*  return the number rounded to the requested number of decimal places\n",
        "\n",
        "Note:  The calling program will print the number.  \n",
        "\n",
        "Test input:  \n",
        "3.14159  \n",
        "2\n",
        "\n",
        "Expected output:  \n",
        "3.14  \n",
        "\n",
        "Test input:  \n",
        "98.6666666666666  \n",
        "4  \n",
        "\n",
        "Expected output:  \n",
        "98.6667  "
      ]
    },
    {
      "cell_type": "code",
      "execution_count": 1,
      "metadata": {
        "id": "YxWVW-tCUWi0",
        "colab": {
          "base_uri": "https://localhost:8080/"
        },
        "outputId": "06dd49b8-1f13-4052-f307-1e38061ae131"
      },
      "outputs": [
        {
          "output_type": "stream",
          "name": "stdout",
          "text": [
            "Please enter a decimal number: 3.12456\n",
            "Please enter a number of places to round to: 2\n",
            "3.12\n",
            "Please enter a decimal number: 2.7778\n",
            "Please enter a number of places to round to: 2\n",
            "2.78\n"
          ]
        }
      ],
      "source": [
        "def get_rounded_float():\n",
        "  decimal_num = float(input(\"Please enter a decimal number: \"))\n",
        "  round_num = int(input(\"Please enter a number of places to round to: \"))\n",
        "\n",
        "  rounded_number = round(decimal_num, round_num)\n",
        "\n",
        "  return rounded_number\n",
        "\n",
        "result1 = get_rounded_float()\n",
        "print(result1)\n",
        "\n",
        "result2 = get_rounded_float()\n",
        "print(result2)\n",
        "\n",
        "\n"
      ]
    },
    {
      "cell_type": "markdown",
      "metadata": {
        "id": "_3cAVG4dUdNy"
      },
      "source": [
        "---\n",
        "### Exercise 5 - round or not\n",
        "\n",
        "Write a function called **get_rounded_float()** which will:  \n",
        "\n",
        "*  ask the user for a decimal **number**  \n",
        "*  ask the user if they would like to round the number (Y or N) assign this value to **round_number**\n",
        "*  if `round_number` is \"Y\", then ask the user for a number of **places** to round to and return the number rounded to the required number of decimal places  \n",
        "*  otherwise, return the number as it was typed in\n",
        "\n",
        "Note:  The calling program will print the number.  \n",
        "\n",
        "Test input:  \n",
        "3.14159  \n",
        "Y  \n",
        "3\n",
        "\n",
        "Expected output:  \n",
        "3.142\n",
        "\n",
        "Test input:  \n",
        "98.6666666666666  \n",
        "N\n",
        "\n",
        "Expected output:  \n",
        "98.6666666666666  "
      ]
    },
    {
      "cell_type": "code",
      "execution_count": null,
      "metadata": {
        "id": "37yoNHUMUfU1",
        "colab": {
          "base_uri": "https://localhost:8080/"
        },
        "outputId": "8951fc25-bb09-43c6-f084-b1b5d1518e54"
      },
      "outputs": [
        {
          "output_type": "stream",
          "name": "stdout",
          "text": [
            "Enter a decimal number: 3.14686\n",
            "Do you want to round the number? (Y or N): Y\n",
            "Enter the number of decimal places to round to: 4\n",
            "3.1469\n",
            "Enter a decimal number: 3.16522\n",
            "Do you want to round the number? (Y or N): N\n",
            "3.16522\n"
          ]
        }
      ],
      "source": [
        "def get_rounded_float():\n",
        "    decimal_number = float(input(\"Enter a decimal number: \"))\n",
        "    round_number = input(\"Do you want to round the number? (Y or N): \").strip().upper()\n",
        "\n",
        "    if round_number == \"Y\":\n",
        "        decimal_places = int(input(\"Enter the number of decimal places to round to: \"))\n",
        "        rounded_number = round(decimal_number, decimal_places)\n",
        "        return rounded_number\n",
        "    else:\n",
        "        return decimal_number\n",
        "\n",
        "\n",
        "result1 = get_rounded_float()\n",
        "print(result1)\n",
        "\n",
        "result2 = get_rounded_float()\n",
        "print(result2)\n"
      ]
    },
    {
      "cell_type": "markdown",
      "metadata": {
        "id": "3QKlC5GSUgpR"
      },
      "source": [
        "---\n",
        "### Exercise 6 - random number and places\n",
        "\n",
        "Write a function called **generate_rounded_float()** which will:  \n",
        "\n",
        "*  import the functions uniform and randint from random (from random import uniform, randint)    \n",
        "Note *: the uniform function will generate a random float between two given boundary numbers ( e.g. number = uniform(10,20)).  It is better practice to name the functions you will be using from a library rather than importing the whole library, which could be large*  \n",
        "\n",
        "*  generate a random decimal **number** between 1 and 100   \n",
        "*  print the `number`   \n",
        "*  generate a random integer **places** between 1 and 4\n",
        "*  print `places`\n",
        "*  return the `number` rounded to the given number of `places`\n",
        "\n",
        "Note **bold text**:  The calling program will print the number.  \n",
        "\n",
        "**Example 1:**  \n",
        "Random number is 3.14159  \n",
        "Number of places is 3  \n",
        "\n",
        "Expected result: 3.142\n",
        "\n",
        "**Example 2**:  \n",
        "Random number is 98.6666666666666  \n",
        "Number of places is 4  \n",
        "\n",
        "Expected result: 98.6667"
      ]
    },
    {
      "cell_type": "code",
      "execution_count": null,
      "metadata": {
        "id": "QM4vQcY9Uh2D",
        "colab": {
          "base_uri": "https://localhost:8080/"
        },
        "outputId": "33ecd665-c443-4d64-d75d-0652e3f3a5dd"
      },
      "outputs": [
        {
          "output_type": "stream",
          "name": "stdout",
          "text": [
            "Random number is 13.936918305137992\n",
            "Number of places is 2\n",
            "13.94\n"
          ]
        }
      ],
      "source": [
        "from random import uniform, randint\n",
        "\n",
        "def generate_rounded_float():\n",
        "\n",
        "    random_number = uniform(1, 100)\n",
        "    print(f\"Random number is {random_number}\")\n",
        "\n",
        "\n",
        "    places = randint(1, 4)\n",
        "    print(f\"Number of places is {places}\")\n",
        "\n",
        "\n",
        "    rounded_number = round(random_number, places)\n",
        "    return rounded_number\n",
        "\n",
        "\n",
        "result = generate_rounded_float()\n",
        "print(result)\n"
      ]
    }
  ],
  "metadata": {
    "colab": {
      "provenance": [],
      "include_colab_link": true
    },
    "kernelspec": {
      "display_name": "Python 3",
      "name": "python3"
    },
    "language_info": {
      "name": "python"
    }
  },
  "nbformat": 4,
  "nbformat_minor": 0
}